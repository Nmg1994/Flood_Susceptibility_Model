{
  "cells": [
    {
      "cell_type": "markdown",
      "metadata": {
        "id": "view-in-github",
        "colab_type": "text"
      },
      "source": [
        "<a href=\"https://colab.research.google.com/github/Nmg1994/Flood_Susceptibility_Model/blob/main/Flood_susceptibility_mapping_using_machine_learning_models.ipynb\" target=\"_parent\"><img src=\"https://colab.research.google.com/assets/colab-badge.svg\" alt=\"Open In Colab\"/></a>"
      ]
    },
    {
      "cell_type": "code",
      "source": [
        "gpu_info = !nvidia-smi\n",
        "gpu_info = '\\n'.join(gpu_info)\n",
        "if gpu_info.find('failed') >= 0:\n",
        "  print('Not connected to a GPU')\n",
        "else:\n",
        "  print(gpu_info)"
      ],
      "metadata": {
        "colab": {
          "base_uri": "https://localhost:8080/"
        },
        "id": "nBzp9L4AB8_T",
        "outputId": "5895afdb-9a1d-4e70-ffe0-bcbb5fd4daae"
      },
      "execution_count": 1,
      "outputs": [
        {
          "output_type": "stream",
          "name": "stdout",
          "text": [
            "Not connected to a GPU\n"
          ]
        }
      ]
    },
    {
      "cell_type": "code",
      "source": [
        "from psutil import virtual_memory\n",
        "ram_gb = virtual_memory().total / 1e9\n",
        "print('Your runtime has {:.1f} gigabytes of available RAM\\n'.format(ram_gb))\n",
        "\n",
        "if ram_gb < 20:\n",
        "  print('Not using a high-RAM runtime')\n",
        "else:\n",
        "  print('You are using a high-RAM runtime!')"
      ],
      "metadata": {
        "colab": {
          "base_uri": "https://localhost:8080/"
        },
        "id": "WBncBwebB2AY",
        "outputId": "8c577bde-8539-4dd6-ed38-3760c9b5000b"
      },
      "execution_count": 2,
      "outputs": [
        {
          "output_type": "stream",
          "name": "stdout",
          "text": [
            "Your runtime has 27.3 gigabytes of available RAM\n",
            "\n",
            "You are using a high-RAM runtime!\n"
          ]
        }
      ]
    },
    {
      "cell_type": "code",
      "source": [
        "pip install rasterio"
      ],
      "metadata": {
        "id": "cY5B_Ab-qeIt"
      },
      "execution_count": null,
      "outputs": []
    },
    {
      "cell_type": "code",
      "source": [
        "pip install graphviz"
      ],
      "metadata": {
        "id": "1U8NyP6I1uW6"
      },
      "execution_count": null,
      "outputs": []
    },
    {
      "cell_type": "code",
      "execution_count": 5,
      "metadata": {
        "id": "ALzTYYw9BwpI"
      },
      "outputs": [],
      "source": [
        "import numpy as np\n",
        "import seaborn as sns\n",
        "import matplotlib.pylab as plt\n",
        "import pandas as pd\n",
        "from tqdm import tqdm\n",
        "import seaborn as sns\n",
        "import math\n",
        "from matplotlib.pyplot import figure\n",
        "\n",
        "from sklearn.tree import DecisionTreeClassifier\n",
        "from sklearn.ensemble import RandomForestClassifier\n",
        "from sklearn.neural_network import MLPClassifier\n",
        "from sklearn.linear_model import LogisticRegression\n",
        "from sklearn.preprocessing import StandardScaler\n",
        "from sklearn.pipeline import make_pipeline\n",
        "from sklearn.svm import SVC\n",
        "from sklearn import tree\n",
        "import graphviz\n",
        "import sklearn.metrics\n",
        "from sklearn.metrics import roc_curve, auc\n",
        "import matplotlib.pyplot as plt\n",
        "from sklearn.model_selection import train_test_split\n",
        "from sklearn.model_selection import cross_validate\n",
        "from sklearn.preprocessing import OneHotEncoder\n",
        "import rasterio\n",
        "from sklearn.metrics import jaccard_score\n",
        "from scipy.stats import spearmanr\n",
        "from sklearn.model_selection import GridSearchCV, RandomizedSearchCV\n",
        "from sklearn.ensemble import AdaBoostClassifier, AdaBoostRegressor"
      ]
    },
    {
      "cell_type": "code",
      "source": [
        "from google.colab import drive\n",
        "drive.mount(\"/content/drive\")"
      ],
      "metadata": {
        "colab": {
          "base_uri": "https://localhost:8080/"
        },
        "id": "XHbX0f5u0waR",
        "outputId": "cea87580-6644-497f-92cf-815aab02e798"
      },
      "execution_count": 6,
      "outputs": [
        {
          "output_type": "stream",
          "name": "stdout",
          "text": [
            "Mounted at /content/drive\n"
          ]
        }
      ]
    },
    {
      "cell_type": "code",
      "source": [
        "All_points =rasterio.open('/content/drive/My Drive/flood input data/Flood_Inventory_Map.tif')\n",
        "Slope =rasterio.open('/content/drive/My Drive/flood input data/Slope.tif')\n",
        "Dis_rivers =rasterio.open('/content/drive/My Drive/flood input data/Dis_rivers.tif')\n",
        "Rainfall =rasterio.open('/content/drive/My Drive/flood input data/CV_rainfall.tif')\n",
        "NDMI =rasterio.open('/content/drive/My Drive/flood input data/NDMI.tif')\n",
        "Aspect =rasterio.open('/content/drive/My Drive/flood input data/Aspect.tif')\n",
        "Drainage_density =rasterio.open('/content/drive/My Drive/flood input data/Drainage_density.tif')\n",
        "Plan_curvature =rasterio.open('/content/drive/My Drive/flood input data/Plan_curvature.tif')\n",
        "Profile_curvature =rasterio.open('/content/drive/My Drive/flood input data/Profile_curvature.tif')\n",
        "TWI =rasterio.open('/content/drive/My Drive/flood input data/TWI.tif')\n",
        "Roughness =rasterio.open('/content/drive/My Drive/flood input data/Roughness.tif')\n",
        "Lithology =rasterio.open('/content/drive/My Drive/flood input data/Lithology.tif')\n",
        "Soil =rasterio.open('/content/drive/My Drive/flood input data/Soil.tif')\n",
        "Land_cover =rasterio.open('/content/drive/My Drive/flood input data/Land_cover.tif')\n",
        "\n",
        "All_points_arr = All_points.read(1)\n",
        "Slope_arr = Slope.read(1)\n",
        "Dis_rivers_arr = Dis_rivers.read(1)\n",
        "Rainfall_arr = Rainfall.read(1)\n",
        "NDMI_arr = NDMI.read(1)\n",
        "Aspect_arr = Aspect.read(1)\n",
        "Drainage_density_arr = Drainage_density.read(1)\n",
        "Plan_curvature_arr = Plan_curvature.read(1)\n",
        "Profile_curvature_arr = Profile_curvature.read(1)\n",
        "TWI_arr = TWI.read(1)\n",
        "Roughness_arr = Roughness.read(1)\n",
        "Lithology_arr = Lithology.read(1)\n",
        "Soil_arr = Soil.read(1)\n",
        "Land_cover_arr = Land_cover.read(1)\n",
        "\n",
        "print(All_points_arr.shape)"
      ],
      "metadata": {
        "colab": {
          "base_uri": "https://localhost:8080/"
        },
        "id": "MG3kRHRNqr8d",
        "outputId": "6a758396-e14e-4533-e918-45b59bc36175"
      },
      "execution_count": 7,
      "outputs": [
        {
          "output_type": "stream",
          "name": "stdout",
          "text": [
            "(7893, 7123)\n"
          ]
        }
      ]
    },
    {
      "cell_type": "code",
      "source": [
        "All_points_arr = All_points_arr.reshape(-1,1)\n",
        "Slope_arr = Slope_arr.reshape(-1,1)\n",
        "Dis_rivers_arr = Dis_rivers_arr.reshape(-1,1)\n",
        "Rainfall_arr = Rainfall_arr.reshape(-1,1)\n",
        "NDMI_arr = NDMI_arr.reshape(-1,1)\n",
        "Aspect_arr = Aspect_arr.reshape(-1,1)\n",
        "Drainage_density_arr = Drainage_density_arr.reshape(-1,1)\n",
        "Plan_curvature_arr = Plan_curvature_arr.reshape(-1,1)\n",
        "Profile_curvature_arr = Profile_curvature_arr.reshape(-1,1)\n",
        "TWI_arr = TWI_arr.reshape(-1,1)\n",
        "Roughness_arr = Roughness_arr.reshape(-1,1)\n",
        "Lithology_arr = Lithology_arr.reshape(-1,1)\n",
        "Soil_arr = Soil_arr.reshape(-1,1)\n",
        "Land_cover_arr = Land_cover_arr.reshape(-1,1)\n",
        "\n",
        "Data_indices = np.argwhere(All_points_arr != All_points.nodata) # this was done for separating the pixels with data from no-data ones\n",
        "flood_indices = np.argwhere(All_points_arr == 1)\n",
        "non_flood_indices = np.argwhere(All_points_arr == 0)\n",
        "\n",
        "print(\"Data_indices shape: \", Data_indices.shape)\n",
        "print(\"flood_indices shape:\", flood_indices.shape)\n",
        "print(\"non_flood_indices shape:\", non_flood_indices.shape)"
      ],
      "metadata": {
        "colab": {
          "base_uri": "https://localhost:8080/"
        },
        "id": "riylMxxqCdM2",
        "outputId": "7c9d2832-3725-4404-9dc5-002112d21fee"
      },
      "execution_count": 8,
      "outputs": [
        {
          "output_type": "stream",
          "name": "stdout",
          "text": [
            "Data_indices shape:  (23176447, 2)\n",
            "flood_indices shape: (180, 2)\n",
            "non_flood_indices shape: (180, 2)\n"
          ]
        }
      ]
    },
    {
      "cell_type": "code",
      "source": [
        "Slope_whole_study_area = Slope_arr[Data_indices[:,0],0].reshape(-1,1)\n",
        "Dis_rivers_whole_study_area = Dis_rivers_arr[Data_indices[:,0],0].reshape(-1,1)\n",
        "Rainfall_whole_study_area = Rainfall_arr[Data_indices[:,0],0].reshape(-1,1)\n",
        "NDMI_whole_study_area = NDMI_arr[Data_indices[:,0],0].reshape(-1,1)\n",
        "Aspect_whole_study_area = Aspect_arr[Data_indices[:,0],0].reshape(-1,1)\n",
        "Drainage_density_whole_study_area = Drainage_density_arr[Data_indices[:,0],0].reshape(-1,1)\n",
        "Plan_curvature_whole_study_area = Plan_curvature_arr[Data_indices[:,0],0].reshape(-1,1)\n",
        "Profile_curvature_whole_study_area = Profile_curvature_arr[Data_indices[:,0],0].reshape(-1,1)\n",
        "TWI_whole_study_area = TWI_arr[Data_indices[:,0],0].reshape(-1,1)\n",
        "Roughness_whole_study_area = Roughness_arr[Data_indices[:,0],0].reshape(-1,1)\n",
        "Lithology_whole_study_area = Lithology_arr[Data_indices[:,0],0].reshape(-1,1)\n",
        "Soil_whole_study_area = Soil_arr[Data_indices[:,0],0].reshape(-1,1)\n",
        "Land_cover_whole_study_area = Land_cover_arr[Data_indices[:,0],0].reshape(-1,1)\n",
        "\n",
        "Datasett_whole_study_area=np.concatenate((Slope_whole_study_area, Dis_rivers_whole_study_area, Rainfall_whole_study_area, NDMI_whole_study_area, Aspect_whole_study_area, \n",
        "                         Drainage_density_whole_study_area, Plan_curvature_whole_study_area, Profile_curvature_whole_study_area, TWI_whole_study_area, Roughness_whole_study_area,\n",
        "                         Lithology_whole_study_area, Soil_whole_study_area, Land_cover_whole_study_area), axis = 1)\n",
        "\n",
        "Datasett_whole_study_area_for_spearman_analysis = Datasett_whole_study_area\n",
        "print(np.shape(Datasett_whole_study_area))"
      ],
      "metadata": {
        "colab": {
          "base_uri": "https://localhost:8080/"
        },
        "id": "pG9LXysTEERM",
        "outputId": "e1c8b718-034f-4701-d857-fea7f764026e"
      },
      "execution_count": 32,
      "outputs": [
        {
          "output_type": "stream",
          "name": "stdout",
          "text": [
            "(23176447, 13)\n"
          ]
        }
      ]
    },
    {
      "cell_type": "code",
      "source": [
        "hot_coded_variables_whole_study_area = Datasett_whole_study_area[:,-3:]\n",
        "print(\"hot_coded_variables shape: \", np.shape(hot_coded_variables_whole_study_area))\n",
        "\n",
        "Dataset_whole_study_area = Datasett_whole_study_area[:,:-3]\n",
        "print(\"Dataset_without_categorial_features shape: \", np.shape(Dataset_whole_study_area))\n",
        "\n",
        "print(np.shape(Dataset_whole_study_area))\n",
        "\n",
        "number_of_categorial_variables_whole_study_area = 3\n",
        "\n",
        "enc_whole_study_area = OneHotEncoder(handle_unknown='ignore')\n",
        "\n",
        "Hot_coded_columns_Total_whole_study_area = np.empty((Dataset_whole_study_area.shape[0], 0))\n",
        "N_hot_coded_columns_whole_study_area = []\n",
        "\n",
        "for i in range(number_of_categorial_variables_whole_study_area):\n",
        "    each_categorial_variable_whole_study_area = np.array(hot_coded_variables_whole_study_area[:,i]).reshape(-1,1)\n",
        "    Transformed_X = enc_whole_study_area.fit_transform(each_categorial_variable_whole_study_area).toarray()\n",
        "    N_columns = np.shape(Transformed_X)[1]\n",
        "    N_hot_coded_columns_whole_study_area.append(N_columns)\n",
        "    Hot_coded_columns_Total_whole_study_area = np.append(Hot_coded_columns_Total_whole_study_area, Transformed_X, axis = 1)\n",
        "\n",
        "print(\"number of columns for each categorial variable [Lithology, Soil, Land Cover]: \", N_hot_coded_columns_whole_study_area)\n",
        "\n",
        "Processed_dataset_whole_study_area = np.hstack((Dataset_whole_study_area, Hot_coded_columns_Total_whole_study_area))\n",
        "print(\"Processed_dataset shape: \", np.shape(Processed_dataset_whole_study_area))\n",
        "\n",
        "df_whole_study_area = pd.DataFrame(Processed_dataset_whole_study_area, columns = ['Slope',\t'Distance from rivers',\t'Rainfall',\t'NDMI',\t'Aspect',\t'Drainage density',\t'Plan curvature',\t'Profile curvature',\t'TWI',\t'Roughness',\t\n",
        "                                                'Lithology_1', 'Lithology_2', 'Lithology_3', 'Lithology_4', 'Lithology_5',\t\n",
        "                                                'Soil_1', 'Soil_2', 'Soil_3', 'Soil_4',\n",
        "                                                'Land Cover_1', 'Land Cover_2', 'Land Cover_3', 'Land Cover_4', 'Land Cover_5', 'Land Cover_6', 'Land Cover_7', 'Land Cover_8', 'Land Cover_9', 'Land Cover_10', 'Land Cover_11', 'Land Cover_12', 'Land Cover_13', 'Land Cover_14'])\n",
        "\n",
        "print(df_whole_study_area)\n",
        "print(All_points_arr.shape)"
      ],
      "metadata": {
        "colab": {
          "base_uri": "https://localhost:8080/"
        },
        "id": "KQ2flWfjCu7H",
        "outputId": "73f89428-8a59-4c81-8e14-9674befd3e2f"
      },
      "execution_count": 33,
      "outputs": [
        {
          "output_type": "stream",
          "name": "stdout",
          "text": [
            "hot_coded_variables shape:  (23176447, 3)\n",
            "Dataset_without_categorial_features shape:  (23176447, 10)\n",
            "(23176447, 10)\n",
            "number of columns for each categorial variable [Lithology, Soil, Land Cover]:  [5, 4, 14]\n",
            "Processed_dataset shape:  (23176447, 33)\n",
            "              Slope  Distance from rivers   Rainfall      NDMI      Aspect  \\\n",
            "0          3.337111           7033.413574  23.476513 -0.163623  210.963760   \n",
            "1          4.714065           7028.869141  23.476513 -0.163623  194.036240   \n",
            "2          6.147248           7024.343750  23.476513  0.131960  201.801407   \n",
            "3          6.504634           7019.837891  23.476513  0.131960  195.255112   \n",
            "4          5.710593           7015.351562  23.476513  0.102891  180.000000   \n",
            "...             ...                   ...        ...       ...         ...   \n",
            "23176442  24.516314           4179.002441  20.738363  0.136742  322.125031   \n",
            "23176443  18.018106           4172.997070  20.738363  0.136742  315.000000   \n",
            "23176444   8.984877           4167.020996  20.738363  0.229108  304.695160   \n",
            "23176445   3.337111           4161.073242  20.738363  0.144223  120.963753   \n",
            "23176446  13.128846           4155.154785  20.738363  0.144223  120.963753   \n",
            "\n",
            "          Drainage density  Plan curvature  Profile curvature       TWI  \\\n",
            "0                 0.759468       -0.160000           1.120000  7.835637   \n",
            "1                 0.759468        0.832000          -0.448000  5.009108   \n",
            "2                 0.759468       -0.512000           0.128000  6.131173   \n",
            "3                 0.759468        0.736000          -0.544000  4.688416   \n",
            "4                 0.759468       -0.000000          -0.640000  5.511527   \n",
            "...                    ...             ...                ...       ...   \n",
            "23176442          1.089716        0.674462          -3.165539  4.001813   \n",
            "23176443          1.089716        0.325246          -2.874754  3.645779   \n",
            "23176444          1.034168        0.049231          -1.870769  4.363881   \n",
            "23176445          1.034168        1.120000          -2.720000  5.350730   \n",
            "23176446          1.034168        1.016471          -1.543529  3.977163   \n",
            "\n",
            "          Roughness  ...  Land Cover_5  Land Cover_6  Land Cover_7  \\\n",
            "0          0.533325  ...           1.0           0.0           0.0   \n",
            "1          0.583333  ...           1.0           0.0           0.0   \n",
            "2          0.527771  ...           1.0           0.0           0.0   \n",
            "3          0.481486  ...           1.0           0.0           0.0   \n",
            "4          0.555542  ...           1.0           0.0           0.0   \n",
            "...             ...  ...           ...           ...           ...   \n",
            "23176442   0.638885  ...           0.0           0.0           0.0   \n",
            "23176443   0.703705  ...           0.0           0.0           0.0   \n",
            "23176444   0.708328  ...           0.0           0.0           0.0   \n",
            "23176445   0.622217  ...           0.0           0.0           0.0   \n",
            "23176446   0.629625  ...           0.0           0.0           0.0   \n",
            "\n",
            "          Land Cover_8  Land Cover_9  Land Cover_10  Land Cover_11  \\\n",
            "0                  0.0           0.0            0.0            0.0   \n",
            "1                  0.0           0.0            0.0            0.0   \n",
            "2                  0.0           0.0            0.0            0.0   \n",
            "3                  0.0           0.0            0.0            0.0   \n",
            "4                  0.0           0.0            0.0            0.0   \n",
            "...                ...           ...            ...            ...   \n",
            "23176442           0.0           0.0            0.0            0.0   \n",
            "23176443           0.0           0.0            0.0            0.0   \n",
            "23176444           0.0           0.0            0.0            0.0   \n",
            "23176445           0.0           0.0            0.0            0.0   \n",
            "23176446           0.0           0.0            0.0            0.0   \n",
            "\n",
            "          Land Cover_12  Land Cover_13  Land Cover_14  \n",
            "0                   0.0            0.0            0.0  \n",
            "1                   0.0            0.0            0.0  \n",
            "2                   0.0            0.0            0.0  \n",
            "3                   0.0            0.0            0.0  \n",
            "4                   0.0            0.0            0.0  \n",
            "...                 ...            ...            ...  \n",
            "23176442            0.0            0.0            1.0  \n",
            "23176443            0.0            0.0            1.0  \n",
            "23176444            0.0            0.0            1.0  \n",
            "23176445            0.0            0.0            1.0  \n",
            "23176446            0.0            0.0            1.0  \n",
            "\n",
            "[23176447 rows x 33 columns]\n",
            "(56221839, 1)\n"
          ]
        }
      ]
    },
    {
      "cell_type": "code",
      "source": [
        "flood_non_flood_indices = np.concatenate((flood_indices[:,0], non_flood_indices[:,0]), axis = 0).reshape(-1,1)\n",
        "\n",
        "flood_non_flood_values = All_points_arr[flood_non_flood_indices,0]\n",
        "Slope_values = Slope_arr[flood_non_flood_indices,0]\n",
        "Dis_rivers_values = Dis_rivers_arr[flood_non_flood_indices,0]\n",
        "Rainfall_values = Rainfall_arr[flood_non_flood_indices,0]\n",
        "NDMI_values = NDMI_arr[flood_non_flood_indices,0]\n",
        "Aspect_values = Aspect_arr[flood_non_flood_indices,0]\n",
        "Drainage_density_values = Drainage_density_arr[flood_non_flood_indices,0]\n",
        "Plan_curvature_values = Plan_curvature_arr[flood_non_flood_indices,0]\n",
        "Profile_curvature_values = Profile_curvature_arr[flood_non_flood_indices,0]\n",
        "TWI_values = TWI_arr[flood_non_flood_indices,0]\n",
        "Roughness_values = Roughness_arr[flood_non_flood_indices,0]\n",
        "Lithology_values = Lithology_arr[flood_non_flood_indices,0]\n",
        "Soil_values = Soil_arr[flood_non_flood_indices,0]\n",
        "Land_cover_values = Land_cover_arr[flood_non_flood_indices,0]\n",
        "\n",
        "Datasett=np.concatenate((flood_non_flood_values, Slope_values, Dis_rivers_values, Rainfall_values, NDMI_values, Aspect_values, Drainage_density_values,\n",
        "                        Plan_curvature_values, Profile_curvature_values, TWI_values, Roughness_values, Lithology_values, Soil_values, Land_cover_values), axis = 1)\n",
        "print(np.shape(Datasett))"
      ],
      "metadata": {
        "colab": {
          "base_uri": "https://localhost:8080/"
        },
        "id": "mwZdVj_Q5WLA",
        "outputId": "17ec89f6-e302-4ae3-a4c3-64cc70e5594c"
      },
      "execution_count": 9,
      "outputs": [
        {
          "output_type": "stream",
          "name": "stdout",
          "text": [
            "(360, 14)\n"
          ]
        }
      ]
    },
    {
      "cell_type": "code",
      "source": [
        "df_model_inputs = pd.DataFrame(Datasett, columns = ['Flood', 'Slope',\t'Distance from rivers',\t'Rainfall',\t'NDMI',\t'Aspect',\t'Drainage density',\t'Plan curvature',\t'Profile curvature',\t'TWI',\t'Roughness',\t\n",
        "                                                'Lithology', 'Soil', 'Land Cover'])\n",
        "\n",
        "print(df_model_inputs)\n",
        "df_model_inputs.to_excel(\"Model_inputs.xlsx\") "
      ],
      "metadata": {
        "colab": {
          "base_uri": "https://localhost:8080/"
        },
        "id": "nZWuek5k9EpZ",
        "outputId": "dbfd866e-1c2e-48e3-9639-2c6553110120"
      },
      "execution_count": 10,
      "outputs": [
        {
          "output_type": "stream",
          "name": "stdout",
          "text": [
            "     Flood      Slope  Distance from rivers   Rainfall      NDMI      Aspect  \\\n",
            "0      1.0  24.516314            367.636017  24.544302  0.328638  344.744873   \n",
            "1      1.0   8.398939            112.500000  24.692160  0.242576  208.300751   \n",
            "2      1.0   5.111090            100.778221  24.694195  0.176761  243.434952   \n",
            "3      1.0  29.987591            251.557648  24.534082  0.163435   27.897270   \n",
            "4      1.0  24.094843            606.346619  24.523865  0.134596   10.304847   \n",
            "..     ...        ...                   ...        ...       ...         ...   \n",
            "355    0.0  27.655567           1521.204346  20.669382  0.404455   48.094059   \n",
            "356    0.0  18.081682           2317.359863  20.778744  0.262845  229.969742   \n",
            "357    0.0  37.542458           2216.768555  20.697109  0.530120  302.242462   \n",
            "358    0.0  18.987982           2003.902466  20.648222  0.531309   35.537678   \n",
            "359    0.0  23.452175           3190.341797  20.774328  0.286315  244.025604   \n",
            "\n",
            "     Drainage density  Plan curvature  Profile curvature       TWI  Roughness  \\\n",
            "0            5.453175       -0.640000           0.640000  6.444160   0.476192   \n",
            "1            6.164340        0.344615          -0.295385  5.125065   0.511108   \n",
            "2            4.568143       -0.512000           0.128000  7.126009   0.444438   \n",
            "3            6.771335       -0.506422           0.773578  8.498774   0.491229   \n",
            "4            6.619492        0.020480          -0.619520  7.260058   0.512822   \n",
            "..                ...             ...                ...       ...        ...   \n",
            "355          3.086888        0.194475          -0.445525  5.249503   0.530863   \n",
            "356          2.694411       -0.220328           0.419672  4.335171   0.500000   \n",
            "357          2.343307        0.776629          -0.503371  3.480906   0.506171   \n",
            "358          2.311382        0.942703          -0.337297  4.282835   0.462962   \n",
            "359          1.773976       -0.384000           0.256000  5.843477   0.460318   \n",
            "\n",
            "     Lithology  Soil  Land Cover  \n",
            "0          5.0   1.0         5.0  \n",
            "1          5.0   3.0         2.0  \n",
            "2          5.0   3.0         2.0  \n",
            "3          5.0   3.0         2.0  \n",
            "4          5.0   3.0         2.0  \n",
            "..         ...   ...         ...  \n",
            "355        1.0   4.0         5.0  \n",
            "356        1.0   4.0         5.0  \n",
            "357        1.0   4.0         5.0  \n",
            "358        1.0   4.0         5.0  \n",
            "359        1.0   4.0         5.0  \n",
            "\n",
            "[360 rows x 14 columns]\n"
          ]
        }
      ]
    },
    {
      "cell_type": "code",
      "execution_count": 11,
      "metadata": {
        "colab": {
          "base_uri": "https://localhost:8080/"
        },
        "id": "r4KW1BUzB2oV",
        "outputId": "dfed4c06-b727-45e3-fa40-b0e9153fdf7c"
      },
      "outputs": [
        {
          "output_type": "stream",
          "name": "stdout",
          "text": [
            "hot_coded_variables shape:  (360, 3)\n",
            "Dataset_without_categorial_features shape:  (360, 11)\n",
            "(360, 11)\n",
            "number of columns for each categorial variable [Lithology, Soil, Land Cover]:  [5, 4, 14]\n",
            "Processed_dataset shape:  (360, 34)\n",
            "     Flood      Slope  Distance from rivers   Rainfall      NDMI      Aspect  \\\n",
            "0      1.0  24.516314            367.636017  24.544302  0.328638  344.744873   \n",
            "1      1.0   8.398939            112.500000  24.692160  0.242576  208.300751   \n",
            "2      1.0   5.111090            100.778221  24.694195  0.176761  243.434952   \n",
            "3      1.0  29.987591            251.557648  24.534082  0.163435   27.897270   \n",
            "4      1.0  24.094843            606.346619  24.523865  0.134596   10.304847   \n",
            "..     ...        ...                   ...        ...       ...         ...   \n",
            "355    0.0  27.655567           1521.204346  20.669382  0.404455   48.094059   \n",
            "356    0.0  18.081682           2317.359863  20.778744  0.262845  229.969742   \n",
            "357    0.0  37.542458           2216.768555  20.697109  0.530120  302.242462   \n",
            "358    0.0  18.987982           2003.902466  20.648222  0.531309   35.537678   \n",
            "359    0.0  23.452175           3190.341797  20.774328  0.286315  244.025604   \n",
            "\n",
            "     Drainage density  Plan curvature  Profile curvature       TWI  ...  \\\n",
            "0            5.453175       -0.640000           0.640000  6.444160  ...   \n",
            "1            6.164340        0.344615          -0.295385  5.125065  ...   \n",
            "2            4.568143       -0.512000           0.128000  7.126009  ...   \n",
            "3            6.771335       -0.506422           0.773578  8.498774  ...   \n",
            "4            6.619492        0.020480          -0.619520  7.260058  ...   \n",
            "..                ...             ...                ...       ...  ...   \n",
            "355          3.086888        0.194475          -0.445525  5.249503  ...   \n",
            "356          2.694411       -0.220328           0.419672  4.335171  ...   \n",
            "357          2.343307        0.776629          -0.503371  3.480906  ...   \n",
            "358          2.311382        0.942703          -0.337297  4.282835  ...   \n",
            "359          1.773976       -0.384000           0.256000  5.843477  ...   \n",
            "\n",
            "     Land Cover_5  Land Cover_6  Land Cover_7  Land Cover_8  Land Cover_9  \\\n",
            "0             1.0           0.0           0.0           0.0           0.0   \n",
            "1             0.0           0.0           0.0           0.0           0.0   \n",
            "2             0.0           0.0           0.0           0.0           0.0   \n",
            "3             0.0           0.0           0.0           0.0           0.0   \n",
            "4             0.0           0.0           0.0           0.0           0.0   \n",
            "..            ...           ...           ...           ...           ...   \n",
            "355           1.0           0.0           0.0           0.0           0.0   \n",
            "356           1.0           0.0           0.0           0.0           0.0   \n",
            "357           1.0           0.0           0.0           0.0           0.0   \n",
            "358           1.0           0.0           0.0           0.0           0.0   \n",
            "359           1.0           0.0           0.0           0.0           0.0   \n",
            "\n",
            "     Land Cover_10  Land Cover_11  Land Cover_12  Land Cover_13  Land Cover_14  \n",
            "0              0.0            0.0            0.0            0.0            0.0  \n",
            "1              0.0            0.0            0.0            0.0            0.0  \n",
            "2              0.0            0.0            0.0            0.0            0.0  \n",
            "3              0.0            0.0            0.0            0.0            0.0  \n",
            "4              0.0            0.0            0.0            0.0            0.0  \n",
            "..             ...            ...            ...            ...            ...  \n",
            "355            0.0            0.0            0.0            0.0            0.0  \n",
            "356            0.0            0.0            0.0            0.0            0.0  \n",
            "357            0.0            0.0            0.0            0.0            0.0  \n",
            "358            0.0            0.0            0.0            0.0            0.0  \n",
            "359            0.0            0.0            0.0            0.0            0.0  \n",
            "\n",
            "[360 rows x 34 columns]\n",
            "X_datasets:  (252, 33)\n",
            "Y_datasets:  (252,)\n",
            "X_test_datasets:  (108, 33)\n",
            "Y_test_datasets:  (108,)\n"
          ]
        }
      ],
      "source": [
        "hot_coded_variables = Datasett[:,-3:]\n",
        "print(\"hot_coded_variables shape: \", np.shape(hot_coded_variables))\n",
        "\n",
        "Dataset = Datasett[:,:-3]\n",
        "print(\"Dataset_without_categorial_features shape: \", np.shape(Dataset))\n",
        "\n",
        "print(np.shape(Dataset))\n",
        "\n",
        "number_of_categorial_variables = 3\n",
        "\n",
        "enc = OneHotEncoder(handle_unknown='ignore')\n",
        "\n",
        "Hot_coded_columns_Total = np.empty((Dataset.shape[0], 0))\n",
        "N_hot_coded_columns = []\n",
        "\n",
        "for i in range(number_of_categorial_variables):\n",
        "    each_categorial_variable = np.array(hot_coded_variables[:,i]).reshape(-1,1)\n",
        "    Transformed_X = enc.fit_transform(each_categorial_variable).toarray()\n",
        "    N_columns = np.shape(Transformed_X)[1]\n",
        "    N_hot_coded_columns.append(N_columns)\n",
        "    Hot_coded_columns_Total = np.append(Hot_coded_columns_Total, Transformed_X, axis = 1)\n",
        "\n",
        "print(\"number of columns for each categorial variable [Lithology, Soil, Land Cover]: \", N_hot_coded_columns)\n",
        "\n",
        "Processed_dataset = np.hstack((Dataset, Hot_coded_columns_Total))\n",
        "print(\"Processed_dataset shape: \", np.shape(Processed_dataset))\n",
        "\n",
        "#Processed_dataset = np.array(Processed_dataset, dtype=\"float\")\n",
        "df = pd.DataFrame(Processed_dataset, columns = ['Flood', 'Slope',\t'Distance from rivers',\t'Rainfall',\t'NDMI',\t'Aspect',\t'Drainage density',\t'Plan curvature',\t'Profile curvature',\t'TWI',\t'Roughness',\t\n",
        "                                                'Lithology_1', 'Lithology_2', 'Lithology_3', 'Lithology_4', 'Lithology_5',\t\n",
        "                                                'Soil_1', 'Soil_2', 'Soil_3', 'Soil_4',\n",
        "                                                'Land Cover_1', 'Land Cover_2', 'Land Cover_3', 'Land Cover_4', 'Land Cover_5', 'Land Cover_6', 'Land Cover_7', 'Land Cover_8', 'Land Cover_9', 'Land Cover_10', 'Land Cover_11', 'Land Cover_12', 'Land Cover_13', 'Land Cover_14'])\n",
        "\n",
        "print(df)\n",
        "training_data, testing_data = train_test_split(Processed_dataset, test_size=0.3, shuffle=True, random_state=0)\n",
        "\n",
        "X_datasets = training_data[:,1:]\n",
        "Y_datasets = training_data[:,0]\n",
        "print('X_datasets: ', np.shape(X_datasets))\n",
        "print('Y_datasets: ', np.shape(Y_datasets))\n",
        "\n",
        "X_test_datasets = testing_data[:,1:]\n",
        "Y_test_datasets = testing_data[:,0]\n",
        "print('X_test_datasets: ', np.shape(X_test_datasets))\n",
        "print('Y_test_datasets: ', np.shape(Y_test_datasets))"
      ]
    },
    {
      "cell_type": "markdown",
      "source": [
        "Decision tree (DT) model"
      ],
      "metadata": {
        "id": "DfcmUY-YDnBT"
      }
    },
    {
      "cell_type": "code",
      "source": [
        "parameters = {'max_depth':np.arange(1,30,1), 'min_samples_split':[2,4,6,8,10], 'min_samples_leaf': [1,3,5,7,9]}\n",
        "DT_classifier = DecisionTreeClassifier(criterion=\"entropy\",random_state=0)\n",
        "DT_model_gs = GridSearchCV(DT_classifier, parameters, scoring='accuracy', cv=5, return_train_score=True, n_jobs=-1)\n",
        "DT_model_gs.fit(X_datasets, Y_datasets)"
      ],
      "metadata": {
        "colab": {
          "base_uri": "https://localhost:8080/"
        },
        "id": "EAUuiulGn6P9",
        "outputId": "5f823209-a6a1-4892-8dd4-b8a2670a71b0"
      },
      "execution_count": 12,
      "outputs": [
        {
          "output_type": "execute_result",
          "data": {
            "text/plain": [
              "GridSearchCV(cv=5,\n",
              "             estimator=DecisionTreeClassifier(criterion='entropy',\n",
              "                                              random_state=0),\n",
              "             n_jobs=-1,\n",
              "             param_grid={'max_depth': array([ 1,  2,  3,  4,  5,  6,  7,  8,  9, 10, 11, 12, 13, 14, 15, 16, 17,\n",
              "       18, 19, 20, 21, 22, 23, 24, 25, 26, 27, 28, 29]),\n",
              "                         'min_samples_leaf': [1, 3, 5, 7, 9],\n",
              "                         'min_samples_split': [2, 4, 6, 8, 10]},\n",
              "             return_train_score=True, scoring='accuracy')"
            ]
          },
          "metadata": {},
          "execution_count": 12
        }
      ]
    },
    {
      "cell_type": "code",
      "source": [
        "DT_model_gs.best_params_"
      ],
      "metadata": {
        "colab": {
          "base_uri": "https://localhost:8080/"
        },
        "id": "J3HDgVlYx9fU",
        "outputId": "1ac5eb93-f7e3-4bbf-b7ad-3a26df0c3dc6"
      },
      "execution_count": 13,
      "outputs": [
        {
          "output_type": "execute_result",
          "data": {
            "text/plain": [
              "{'max_depth': 4, 'min_samples_leaf': 5, 'min_samples_split': 2}"
            ]
          },
          "metadata": {},
          "execution_count": 13
        }
      ]
    },
    {
      "cell_type": "code",
      "execution_count": 14,
      "metadata": {
        "colab": {
          "base_uri": "https://localhost:8080/",
          "height": 386
        },
        "id": "ALgvHlzfotDK",
        "outputId": "e58f6528-3f33-4775-91e9-6d2e97c370da"
      },
      "outputs": [
        {
          "output_type": "stream",
          "name": "stdout",
          "text": [
            "ROC-AUC score for test dataset:  0.9628482972136223\n",
            "Accuracy score for test dataset:  0.9629629629629629\n",
            "F1 score for test dataset:  0.9649122807017544\n",
            "Kappa score for test dataset:  0.9256965944272446\n",
            "jaccard_score for test dataset: 0.9322033898305084\n"
          ]
        },
        {
          "output_type": "display_data",
          "data": {
            "text/plain": [
              "<Figure size 360x360 with 2 Axes>"
            ],
            "image/png": "[encoded data removed]"
          },
          "metadata": {
            "needs_background": "light"
          }
        }
      ],
      "source": [
        "DT_model = DecisionTreeClassifier(criterion=\"entropy\", random_state=0, **DT_model_gs.best_params_)\n",
        "DT_model.fit(X_datasets, Y_datasets)\n",
        "\n",
        "Y_test_predict = DT_model.predict(X_test_datasets)\n",
        "print(\"ROC-AUC score for test dataset: \", sklearn.metrics.roc_auc_score(Y_test_datasets, Y_test_predict))\n",
        "print(\"Accuracy score for test dataset: \", sklearn.metrics.accuracy_score(Y_test_datasets, Y_test_predict))\n",
        "print(\"F1 score for test dataset: \", sklearn.metrics.f1_score(Y_test_datasets, Y_test_predict))\n",
        "print(\"Kappa score for test dataset: \", sklearn.metrics.cohen_kappa_score(Y_test_datasets, Y_test_predict))\n",
        "print(\"jaccard_score for test dataset:\", jaccard_score(Y_test_datasets, Y_test_predict))\n",
        "\n",
        "CM_DT = sklearn.metrics.confusion_matrix(Y_test_datasets, Y_test_predict)\n",
        "plt.figure(figsize=(5,5))\n",
        "sns.heatmap(CM_DT, annot=True, fmt=\"d\", linewidths=.5, square = True, cmap = 'Blues_r', cbar_kws={\"shrink\": 0.75});\n",
        "plt.ylabel('Actual label');\n",
        "plt.xlabel('Predicted label');\n",
        "all_sample_title = 'Confusion Matrix of DT model'\n",
        "plt.title(all_sample_title, size = 10);"
      ]
    },
    {
      "cell_type": "code",
      "source": [
        "Y_predict_DT_model_whole_study_area = DT_model.predict_proba(Processed_dataset_whole_study_area)\n",
        "\n",
        "Susc_map_DT = np.empty((56221839,1))\n",
        "for ind in range(Data_indices.shape[0]):\n",
        "  Susc_map_DT[Data_indices[ind,0],0]= Y_predict_DT_model_whole_study_area[ind,1]\n",
        "\n",
        "Susceptibility_map_DT = Susc_map_DT.reshape(7893,7123)\n",
        "\n",
        "\n",
        "Flood_susceptibility_map_DT = rasterio.open('flood_susceptibility_map_DT.asc',\n",
        "                                         'w',\n",
        "                                          driver='GTiff',\n",
        "                                          height=7893,\n",
        "                                          width=7123,\n",
        "                                          count=1,\n",
        "                                          dtype='float32',\n",
        "                                          crs='EPSG:32610',\n",
        "                                          transform = All_points.transform,\n",
        "                                          nodata = 0 \n",
        "                                          )\n",
        "Flood_susceptibility_map_DT.write(Susceptibility_map_DT, 1)\n",
        "Flood_susceptibility_map_DT.close()"
      ],
      "metadata": {
        "id": "5QKEkbK2UMWa"
      },
      "execution_count": null,
      "outputs": []
    },
    {
      "cell_type": "code",
      "execution_count": 15,
      "metadata": {
        "colab": {
          "base_uri": "https://localhost:8080/",
          "height": 774
        },
        "id": "Jg158y3AvCWv",
        "outputId": "c81b54ae-446e-4935-bf2b-20448093db74"
      },
      "outputs": [
        {
          "output_type": "stream",
          "name": "stdout",
          "text": [
            "(360, 33)\n"
          ]
        },
        {
          "output_type": "execute_result",
          "data": {
            "text/plain": [
              "<graphviz.files.Source at 0x7fdead196ee0>"
            ],
            "image/svg+xml": "<?xml version=\"1.0\" encoding=\"UTF-8\" standalone=\"no\"?>\n<!DOCTYPE svg PUBLIC \"-//W3C//DTD SVG 1.1//EN\"\n \"http://www.w3.org/Graphics/SVG/1.1/DTD/svg11.dtd\">\n<!-- Generated by graphviz version 2.40.1 (20161225.0304)\n -->\n<!-- Title: Tree Pages: 1 -->\n<svg width=\"634pt\" height=\"552pt\"\n viewBox=\"0.00 0.00 633.50 552.00\" xmlns=\"http://www.w3.org/2000/svg\" xmlns:xlink=\"http://www.w3.org/1999/xlink\">\n<g id=\"graph0\" class=\"graph\" transform=\"scale(1 1) rotate(0) translate(4 548)\">\n<title>Tree</title>\n<polygon fill=\"#ffffff\" stroke=\"transparent\" points=\"-4,4 -4,-548 629.5,-548 629.5,4 -4,4\"/>\n<!-- 0 -->\n<g id=\"node1\" class=\"node\">\n<title>0</title>\n<path fill=\"#fef9f6\" stroke=\"#000000\" d=\"M318,-544C318,-544 210,-544 210,-544 204,-544 198,-538 198,-532 198,-532 198,-473 198,-473 198,-467 204,-461 210,-461 210,-461 318,-461 318,-461 324,-461 330,-467 330,-473 330,-473 330,-532 330,-532 330,-538 324,-544 318,-544\"/>\n<text text-anchor=\"start\" x=\"208.5\" y=\"-528.8\" font-family=\"Helvetica,sans-Serif\" font-size=\"14.00\" fill=\"#000000\">Lithology_5 ≤ 0.5</text>\n<text text-anchor=\"start\" x=\"221.5\" y=\"-513.8\" font-family=\"Helvetica,sans-Serif\" font-size=\"14.00\" fill=\"#000000\">entropy = 1.0</text>\n<text text-anchor=\"start\" x=\"216\" y=\"-498.8\" font-family=\"Helvetica,sans-Serif\" font-size=\"14.00\" fill=\"#000000\">samples = 252</text>\n<text text-anchor=\"start\" x=\"206\" y=\"-483.8\" font-family=\"Helvetica,sans-Serif\" font-size=\"14.00\" fill=\"#000000\">value = [129, 123]</text>\n<text text-anchor=\"start\" x=\"237\" y=\"-468.8\" font-family=\"Helvetica,sans-Serif\" font-size=\"14.00\" fill=\"#000000\">class = [</text>\n</g>\n<!-- 1 -->\n<g id=\"node2\" class=\"node\">\n<title>1</title>\n<path fill=\"#e68743\" stroke=\"#000000\" d=\"M265.5,-425C265.5,-425 76.5,-425 76.5,-425 70.5,-425 64.5,-419 64.5,-413 64.5,-413 64.5,-354 64.5,-354 64.5,-348 70.5,-342 76.5,-342 76.5,-342 265.5,-342 265.5,-342 271.5,-342 277.5,-348 277.5,-354 277.5,-354 277.5,-413 277.5,-413 277.5,-419 271.5,-425 265.5,-425\"/>\n<text text-anchor=\"start\" x=\"72.5\" y=\"-409.8\" font-family=\"Helvetica,sans-Serif\" font-size=\"14.00\" fill=\"#000000\">Distance from rivers ≤ 696.359</text>\n<text text-anchor=\"start\" x=\"120\" y=\"-394.8\" font-family=\"Helvetica,sans-Serif\" font-size=\"14.00\" fill=\"#000000\">entropy = 0.272</text>\n<text text-anchor=\"start\" x=\"123\" y=\"-379.8\" font-family=\"Helvetica,sans-Serif\" font-size=\"14.00\" fill=\"#000000\">samples = 107</text>\n<text text-anchor=\"start\" x=\"121\" y=\"-364.8\" font-family=\"Helvetica,sans-Serif\" font-size=\"14.00\" fill=\"#000000\">value = [102, 5]</text>\n<text text-anchor=\"start\" x=\"144\" y=\"-349.8\" font-family=\"Helvetica,sans-Serif\" font-size=\"14.00\" fill=\"#000000\">class = [</text>\n</g>\n<!-- 0&#45;&gt;1 -->\n<g id=\"edge1\" class=\"edge\">\n<title>0&#45;&gt;1</title>\n<path fill=\"none\" stroke=\"#000000\" d=\"M231.4731,-460.8796C224.5049,-451.9633 217.0753,-442.4565 209.8944,-433.268\"/>\n<polygon fill=\"#000000\" stroke=\"#000000\" points=\"212.5812,-431.0221 203.6657,-425.2981 207.0657,-435.3326 212.5812,-431.0221\"/>\n<text text-anchor=\"middle\" x=\"200.6225\" y=\"-446.4122\" font-family=\"Helvetica,sans-Serif\" font-size=\"14.00\" fill=\"#000000\">True</text>\n</g>\n<!-- 4 -->\n<g id=\"node5\" class=\"node\">\n<title>4</title>\n<path fill=\"#66b3eb\" stroke=\"#000000\" d=\"M408.5,-425C408.5,-425 307.5,-425 307.5,-425 301.5,-425 295.5,-419 295.5,-413 295.5,-413 295.5,-354 295.5,-354 295.5,-348 301.5,-342 307.5,-342 307.5,-342 408.5,-342 408.5,-342 414.5,-342 420.5,-348 420.5,-354 420.5,-354 420.5,-413 420.5,-413 420.5,-419 414.5,-425 408.5,-425\"/>\n<text text-anchor=\"start\" x=\"303.5\" y=\"-409.8\" font-family=\"Helvetica,sans-Serif\" font-size=\"14.00\" fill=\"#000000\">Rainfall ≤ 22.012</text>\n<text text-anchor=\"start\" x=\"307\" y=\"-394.8\" font-family=\"Helvetica,sans-Serif\" font-size=\"14.00\" fill=\"#000000\">entropy = 0.693</text>\n<text text-anchor=\"start\" x=\"310\" y=\"-379.8\" font-family=\"Helvetica,sans-Serif\" font-size=\"14.00\" fill=\"#000000\">samples = 145</text>\n<text text-anchor=\"start\" x=\"304\" y=\"-364.8\" font-family=\"Helvetica,sans-Serif\" font-size=\"14.00\" fill=\"#000000\">value = [27, 118]</text>\n<text text-anchor=\"start\" x=\"329\" y=\"-349.8\" font-family=\"Helvetica,sans-Serif\" font-size=\"14.00\" fill=\"#000000\">class = 1</text>\n</g>\n<!-- 0&#45;&gt;4 -->\n<g id=\"edge4\" class=\"edge\">\n<title>0&#45;&gt;4</title>\n<path fill=\"none\" stroke=\"#000000\" d=\"M296.8766,-460.8796C303.9197,-451.9633 311.4293,-442.4565 318.6874,-433.268\"/>\n<polygon fill=\"#000000\" stroke=\"#000000\" points=\"321.5309,-435.3147 324.983,-425.2981 316.0379,-430.9757 321.5309,-435.3147\"/>\n<text text-anchor=\"middle\" x=\"327.8973\" y=\"-446.4276\" font-family=\"Helvetica,sans-Serif\" font-size=\"14.00\" fill=\"#000000\">False</text>\n</g>\n<!-- 2 -->\n<g id=\"node3\" class=\"node\">\n<title>2</title>\n<path fill=\"#61b1ea\" stroke=\"#000000\" d=\"M98,-298.5C98,-298.5 12,-298.5 12,-298.5 6,-298.5 0,-292.5 0,-286.5 0,-286.5 0,-242.5 0,-242.5 0,-236.5 6,-230.5 12,-230.5 12,-230.5 98,-230.5 98,-230.5 104,-230.5 110,-236.5 110,-242.5 110,-242.5 110,-286.5 110,-286.5 110,-292.5 104,-298.5 98,-298.5\"/>\n<text text-anchor=\"start\" x=\"8\" y=\"-283.3\" font-family=\"Helvetica,sans-Serif\" font-size=\"14.00\" fill=\"#000000\">entropy = 0.65</text>\n<text text-anchor=\"start\" x=\"15.5\" y=\"-268.3\" font-family=\"Helvetica,sans-Serif\" font-size=\"14.00\" fill=\"#000000\">samples = 6</text>\n<text text-anchor=\"start\" x=\"13.5\" y=\"-253.3\" font-family=\"Helvetica,sans-Serif\" font-size=\"14.00\" fill=\"#000000\">value = [1, 5]</text>\n<text text-anchor=\"start\" x=\"26\" y=\"-238.3\" font-family=\"Helvetica,sans-Serif\" font-size=\"14.00\" fill=\"#000000\">class = 1</text>\n</g>\n<!-- 1&#45;&gt;2 -->\n<g id=\"edge2\" class=\"edge\">\n<title>1&#45;&gt;2</title>\n<path fill=\"none\" stroke=\"#000000\" d=\"M130.4288,-341.8796C119.174,-330.3337 106.9539,-317.7976 95.6922,-306.2446\"/>\n<polygon fill=\"#000000\" stroke=\"#000000\" points=\"97.9364,-303.5326 88.4499,-298.8149 92.9238,-308.4188 97.9364,-303.5326\"/>\n</g>\n<!-- 3 -->\n<g id=\"node4\" class=\"node\">\n<title>3</title>\n<path fill=\"#e58139\" stroke=\"#000000\" d=\"M232,-298.5C232,-298.5 140,-298.5 140,-298.5 134,-298.5 128,-292.5 128,-286.5 128,-286.5 128,-242.5 128,-242.5 128,-236.5 134,-230.5 140,-230.5 140,-230.5 232,-230.5 232,-230.5 238,-230.5 244,-236.5 244,-242.5 244,-242.5 244,-286.5 244,-286.5 244,-292.5 238,-298.5 232,-298.5\"/>\n<text text-anchor=\"start\" x=\"143.5\" y=\"-283.3\" font-family=\"Helvetica,sans-Serif\" font-size=\"14.00\" fill=\"#000000\">entropy = 0.0</text>\n<text text-anchor=\"start\" x=\"138\" y=\"-268.3\" font-family=\"Helvetica,sans-Serif\" font-size=\"14.00\" fill=\"#000000\">samples = 101</text>\n<text text-anchor=\"start\" x=\"136\" y=\"-253.3\" font-family=\"Helvetica,sans-Serif\" font-size=\"14.00\" fill=\"#000000\">value = [101, 0]</text>\n<text text-anchor=\"start\" x=\"159\" y=\"-238.3\" font-family=\"Helvetica,sans-Serif\" font-size=\"14.00\" fill=\"#000000\">class = [</text>\n</g>\n<!-- 1&#45;&gt;3 -->\n<g id=\"edge3\" class=\"edge\">\n<title>1&#45;&gt;3</title>\n<path fill=\"none\" stroke=\"#000000\" d=\"M176.2463,-341.8796C177.5908,-331.2134 179.0418,-319.7021 180.4032,-308.9015\"/>\n<polygon fill=\"#000000\" stroke=\"#000000\" points=\"183.8964,-309.1742 181.6746,-298.8149 176.9514,-308.2987 183.8964,-309.1742\"/>\n</g>\n<!-- 5 -->\n<g id=\"node6\" class=\"node\">\n<title>5</title>\n<path fill=\"#e58139\" stroke=\"#000000\" d=\"M385.5,-298.5C385.5,-298.5 302.5,-298.5 302.5,-298.5 296.5,-298.5 290.5,-292.5 290.5,-286.5 290.5,-286.5 290.5,-242.5 290.5,-242.5 290.5,-236.5 296.5,-230.5 302.5,-230.5 302.5,-230.5 385.5,-230.5 385.5,-230.5 391.5,-230.5 397.5,-236.5 397.5,-242.5 397.5,-242.5 397.5,-286.5 397.5,-286.5 397.5,-292.5 391.5,-298.5 385.5,-298.5\"/>\n<text text-anchor=\"start\" x=\"301.5\" y=\"-283.3\" font-family=\"Helvetica,sans-Serif\" font-size=\"14.00\" fill=\"#000000\">entropy = 0.0</text>\n<text text-anchor=\"start\" x=\"300\" y=\"-268.3\" font-family=\"Helvetica,sans-Serif\" font-size=\"14.00\" fill=\"#000000\">samples = 18</text>\n<text text-anchor=\"start\" x=\"298.5\" y=\"-253.3\" font-family=\"Helvetica,sans-Serif\" font-size=\"14.00\" fill=\"#000000\">value = [18, 0]</text>\n<text text-anchor=\"start\" x=\"317\" y=\"-238.3\" font-family=\"Helvetica,sans-Serif\" font-size=\"14.00\" fill=\"#000000\">class = [</text>\n</g>\n<!-- 4&#45;&gt;5 -->\n<g id=\"edge5\" class=\"edge\">\n<title>4&#45;&gt;5</title>\n<path fill=\"none\" stroke=\"#000000\" d=\"M353.1035,-341.8796C351.8486,-331.2134 350.4944,-319.7021 349.2237,-308.9015\"/>\n<polygon fill=\"#000000\" stroke=\"#000000\" points=\"352.6816,-308.3375 348.0371,-298.8149 345.7295,-309.1554 352.6816,-308.3375\"/>\n</g>\n<!-- 6 -->\n<g id=\"node7\" class=\"node\">\n<title>6</title>\n<path fill=\"#48a4e7\" stroke=\"#000000\" d=\"M582,-306C582,-306 428,-306 428,-306 422,-306 416,-300 416,-294 416,-294 416,-235 416,-235 416,-229 422,-223 428,-223 428,-223 582,-223 582,-223 588,-223 594,-229 594,-235 594,-235 594,-294 594,-294 594,-300 588,-306 582,-306\"/>\n<text text-anchor=\"start\" x=\"424\" y=\"-290.8\" font-family=\"Helvetica,sans-Serif\" font-size=\"14.00\" fill=\"#000000\">Drainage density ≤ 3.647</text>\n<text text-anchor=\"start\" x=\"454\" y=\"-275.8\" font-family=\"Helvetica,sans-Serif\" font-size=\"14.00\" fill=\"#000000\">entropy = 0.369</text>\n<text text-anchor=\"start\" x=\"457\" y=\"-260.8\" font-family=\"Helvetica,sans-Serif\" font-size=\"14.00\" fill=\"#000000\">samples = 127</text>\n<text text-anchor=\"start\" x=\"455\" y=\"-245.8\" font-family=\"Helvetica,sans-Serif\" font-size=\"14.00\" fill=\"#000000\">value = [9, 118]</text>\n<text text-anchor=\"start\" x=\"476\" y=\"-230.8\" font-family=\"Helvetica,sans-Serif\" font-size=\"14.00\" fill=\"#000000\">class = 1</text>\n</g>\n<!-- 4&#45;&gt;6 -->\n<g id=\"edge6\" class=\"edge\">\n<title>4&#45;&gt;6</title>\n<path fill=\"none\" stroke=\"#000000\" d=\"M409.4135,-341.8796C421.0952,-332.4229 433.5975,-322.302 445.581,-312.6011\"/>\n<polygon fill=\"#000000\" stroke=\"#000000\" points=\"447.7968,-315.3105 453.3671,-306.2981 443.3924,-309.8697 447.7968,-315.3105\"/>\n</g>\n<!-- 7 -->\n<g id=\"node8\" class=\"node\">\n<title>7</title>\n<path fill=\"#72b9ed\" stroke=\"#000000\" d=\"M488.5,-187C488.5,-187 387.5,-187 387.5,-187 381.5,-187 375.5,-181 375.5,-175 375.5,-175 375.5,-116 375.5,-116 375.5,-110 381.5,-104 387.5,-104 387.5,-104 488.5,-104 488.5,-104 494.5,-104 500.5,-110 500.5,-116 500.5,-116 500.5,-175 500.5,-175 500.5,-181 494.5,-187 488.5,-187\"/>\n<text text-anchor=\"start\" x=\"383.5\" y=\"-171.8\" font-family=\"Helvetica,sans-Serif\" font-size=\"14.00\" fill=\"#000000\">Rainfall ≤ 23.161</text>\n<text text-anchor=\"start\" x=\"387\" y=\"-156.8\" font-family=\"Helvetica,sans-Serif\" font-size=\"14.00\" fill=\"#000000\">entropy = 0.769</text>\n<text text-anchor=\"start\" x=\"394\" y=\"-141.8\" font-family=\"Helvetica,sans-Serif\" font-size=\"14.00\" fill=\"#000000\">samples = 40</text>\n<text text-anchor=\"start\" x=\"392.5\" y=\"-126.8\" font-family=\"Helvetica,sans-Serif\" font-size=\"14.00\" fill=\"#000000\">value = [9, 31]</text>\n<text text-anchor=\"start\" x=\"409\" y=\"-111.8\" font-family=\"Helvetica,sans-Serif\" font-size=\"14.00\" fill=\"#000000\">class = 1</text>\n</g>\n<!-- 6&#45;&gt;7 -->\n<g id=\"edge7\" class=\"edge\">\n<title>6&#45;&gt;7</title>\n<path fill=\"none\" stroke=\"#000000\" d=\"M481.5667,-222.8796C476.6987,-214.2335 471.5181,-205.0322 466.4914,-196.1042\"/>\n<polygon fill=\"#000000\" stroke=\"#000000\" points=\"469.4893,-194.2947 461.5334,-187.2981 463.3897,-197.729 469.4893,-194.2947\"/>\n</g>\n<!-- 10 -->\n<g id=\"node11\" class=\"node\">\n<title>10</title>\n<path fill=\"#399de5\" stroke=\"#000000\" d=\"M613.5,-179.5C613.5,-179.5 530.5,-179.5 530.5,-179.5 524.5,-179.5 518.5,-173.5 518.5,-167.5 518.5,-167.5 518.5,-123.5 518.5,-123.5 518.5,-117.5 524.5,-111.5 530.5,-111.5 530.5,-111.5 613.5,-111.5 613.5,-111.5 619.5,-111.5 625.5,-117.5 625.5,-123.5 625.5,-123.5 625.5,-167.5 625.5,-167.5 625.5,-173.5 619.5,-179.5 613.5,-179.5\"/>\n<text text-anchor=\"start\" x=\"529.5\" y=\"-164.3\" font-family=\"Helvetica,sans-Serif\" font-size=\"14.00\" fill=\"#000000\">entropy = 0.0</text>\n<text text-anchor=\"start\" x=\"528\" y=\"-149.3\" font-family=\"Helvetica,sans-Serif\" font-size=\"14.00\" fill=\"#000000\">samples = 87</text>\n<text text-anchor=\"start\" x=\"526.5\" y=\"-134.3\" font-family=\"Helvetica,sans-Serif\" font-size=\"14.00\" fill=\"#000000\">value = [0, 87]</text>\n<text text-anchor=\"start\" x=\"543\" y=\"-119.3\" font-family=\"Helvetica,sans-Serif\" font-size=\"14.00\" fill=\"#000000\">class = 1</text>\n</g>\n<!-- 6&#45;&gt;10 -->\n<g id=\"edge10\" class=\"edge\">\n<title>6&#45;&gt;10</title>\n<path fill=\"none\" stroke=\"#000000\" d=\"M528.4333,-222.8796C534.6863,-211.7735 541.4552,-199.7513 547.751,-188.5691\"/>\n<polygon fill=\"#000000\" stroke=\"#000000\" points=\"550.8235,-190.2459 552.6798,-179.8149 544.7239,-186.8116 550.8235,-190.2459\"/>\n</g>\n<!-- 8 -->\n<g id=\"node9\" class=\"node\">\n<title>8</title>\n<path fill=\"#399de5\" stroke=\"#000000\" d=\"M414.5,-68C414.5,-68 331.5,-68 331.5,-68 325.5,-68 319.5,-62 319.5,-56 319.5,-56 319.5,-12 319.5,-12 319.5,-6 325.5,0 331.5,0 331.5,0 414.5,0 414.5,0 420.5,0 426.5,-6 426.5,-12 426.5,-12 426.5,-56 426.5,-56 426.5,-62 420.5,-68 414.5,-68\"/>\n<text text-anchor=\"start\" x=\"330.5\" y=\"-52.8\" font-family=\"Helvetica,sans-Serif\" font-size=\"14.00\" fill=\"#000000\">entropy = 0.0</text>\n<text text-anchor=\"start\" x=\"329\" y=\"-37.8\" font-family=\"Helvetica,sans-Serif\" font-size=\"14.00\" fill=\"#000000\">samples = 28</text>\n<text text-anchor=\"start\" x=\"327.5\" y=\"-22.8\" font-family=\"Helvetica,sans-Serif\" font-size=\"14.00\" fill=\"#000000\">value = [0, 28]</text>\n<text text-anchor=\"start\" x=\"344\" y=\"-7.8\" font-family=\"Helvetica,sans-Serif\" font-size=\"14.00\" fill=\"#000000\">class = 1</text>\n</g>\n<!-- 7&#45;&gt;8 -->\n<g id=\"edge8\" class=\"edge\">\n<title>7&#45;&gt;8</title>\n<path fill=\"none\" stroke=\"#000000\" d=\"M413.7964,-103.9815C408.6529,-95.1585 403.2123,-85.8258 398.0384,-76.9506\"/>\n<polygon fill=\"#000000\" stroke=\"#000000\" points=\"401.0344,-75.1402 392.9743,-68.2637 394.987,-78.6656 401.0344,-75.1402\"/>\n</g>\n<!-- 9 -->\n<g id=\"node10\" class=\"node\">\n<title>9</title>\n<path fill=\"#eeab7b\" stroke=\"#000000\" d=\"M551,-68C551,-68 457,-68 457,-68 451,-68 445,-62 445,-56 445,-56 445,-12 445,-12 445,-6 451,0 457,0 457,0 551,0 551,0 557,0 563,-6 563,-12 563,-12 563,-56 563,-56 563,-62 557,-68 551,-68\"/>\n<text text-anchor=\"start\" x=\"453\" y=\"-52.8\" font-family=\"Helvetica,sans-Serif\" font-size=\"14.00\" fill=\"#000000\">entropy = 0.811</text>\n<text text-anchor=\"start\" x=\"460\" y=\"-37.8\" font-family=\"Helvetica,sans-Serif\" font-size=\"14.00\" fill=\"#000000\">samples = 12</text>\n<text text-anchor=\"start\" x=\"462.5\" y=\"-22.8\" font-family=\"Helvetica,sans-Serif\" font-size=\"14.00\" fill=\"#000000\">value = [9, 3]</text>\n<text text-anchor=\"start\" x=\"477\" y=\"-7.8\" font-family=\"Helvetica,sans-Serif\" font-size=\"14.00\" fill=\"#000000\">class = [</text>\n</g>\n<!-- 7&#45;&gt;9 -->\n<g id=\"edge9\" class=\"edge\">\n<title>7&#45;&gt;9</title>\n<path fill=\"none\" stroke=\"#000000\" d=\"M462.576,-103.9815C467.7986,-95.1585 473.3229,-85.8258 478.5763,-76.9506\"/>\n<polygon fill=\"#000000\" stroke=\"#000000\" points=\"481.6364,-78.652 483.7184,-68.2637 475.6126,-75.0863 481.6364,-78.652\"/>\n</g>\n</g>\n</svg>\n"
          },
          "metadata": {},
          "execution_count": 15
        }
      ],
      "source": [
        "XX = df.drop(['Flood'], axis=1)\n",
        "print(np.shape(XX))\n",
        "target = list(df['Flood'].unique())\n",
        "target = str(target)\n",
        "feature_names = list(XX.columns)\n",
        "\n",
        "DT_structure = tree.export_graphviz(DT_model, out_file=None, feature_names=feature_names, class_names=target, filled=True, rounded=True, special_characters=True)  \n",
        "DT_graph = graphviz.Source(DT_structure)  \n",
        "\n",
        "DT_graph\n",
        "#DT_graph.save('DT.jpg')"
      ]
    },
    {
      "cell_type": "markdown",
      "source": [
        "Random forest (RF) model"
      ],
      "metadata": {
        "id": "081fgXSNDDMd"
      }
    },
    {
      "cell_type": "code",
      "source": [
        "parameters = {'n_estimators':np.arange(20,500,20), 'max_depth':np.arange(1,20,1)}\n",
        "RF_classifier = RandomForestClassifier(criterion=\"entropy\",random_state=0, bootstrap = True)\n",
        "RF_model_gs = GridSearchCV(RF_classifier, parameters, scoring='accuracy', cv=5, return_train_score=True, n_jobs=-1)\n",
        "RF_model_gs.fit(X_datasets, Y_datasets)"
      ],
      "metadata": {
        "colab": {
          "base_uri": "https://localhost:8080/"
        },
        "id": "fQ0UYG2xXIOc",
        "outputId": "e6237cf9-b9db-4982-8b39-b18fec93fa7c"
      },
      "execution_count": 16,
      "outputs": [
        {
          "output_type": "execute_result",
          "data": {
            "text/plain": [
              "GridSearchCV(cv=5,\n",
              "             estimator=RandomForestClassifier(criterion='entropy',\n",
              "                                              random_state=0),\n",
              "             n_jobs=-1,\n",
              "             param_grid={'max_depth': array([ 1,  2,  3,  4,  5,  6,  7,  8,  9, 10, 11, 12, 13, 14, 15, 16, 17,\n",
              "       18, 19]),\n",
              "                         'n_estimators': array([ 20,  40,  60,  80, 100, 120, 140, 160, 180, 200, 220, 240, 260,\n",
              "       280, 300, 320, 340, 360, 380, 400, 420, 440, 460, 480])},\n",
              "             return_train_score=True, scoring='accuracy')"
            ]
          },
          "metadata": {},
          "execution_count": 16
        }
      ]
    },
    {
      "cell_type": "code",
      "source": [
        "RF_model_gs.best_params_"
      ],
      "metadata": {
        "colab": {
          "base_uri": "https://localhost:8080/"
        },
        "id": "0UM-yO2EdYnL",
        "outputId": "ec556a34-b751-4365-d8fa-24705a5c7363"
      },
      "execution_count": 17,
      "outputs": [
        {
          "output_type": "execute_result",
          "data": {
            "text/plain": [
              "{'max_depth': 7, 'n_estimators': 180}"
            ]
          },
          "metadata": {},
          "execution_count": 17
        }
      ]
    },
    {
      "cell_type": "code",
      "execution_count": 18,
      "metadata": {
        "colab": {
          "base_uri": "https://localhost:8080/",
          "height": 386
        },
        "id": "3UxnCqOwNyr-",
        "outputId": "ba31b25e-4f9a-4bcb-b8e2-3f4b696727f9"
      },
      "outputs": [
        {
          "output_type": "stream",
          "name": "stdout",
          "text": [
            "ROC-AUC score for test dataset:  0.9912280701754386\n",
            "Accuracy score for test dataset:  0.9907407407407407\n",
            "F1 score for test dataset:  0.9911504424778761\n",
            "Kappa score for test dataset:  0.9814432989690721\n",
            "jaccard_score for test dataset: 0.9824561403508771\n"
          ]
        },
        {
          "output_type": "display_data",
          "data": {
            "text/plain": [
              "<Figure size 360x360 with 2 Axes>"
            ],
            "image/png": "[encoded data removed]"
          },
          "metadata": {
            "needs_background": "light"
          }
        }
      ],
      "source": [
        "RF_model = RandomForestClassifier(criterion=\"entropy\",random_state=0, bootstrap = True, **RF_model_gs.best_params_)\n",
        "RF_model.fit(X_datasets, Y_datasets)\n",
        "\n",
        "Y_test_RF_predict = RF_model.predict(X_test_datasets)\n",
        "print(\"ROC-AUC score for test dataset: \", sklearn.metrics.roc_auc_score(Y_test_datasets, Y_test_RF_predict))\n",
        "print(\"Accuracy score for test dataset: \", sklearn.metrics.accuracy_score(Y_test_datasets, Y_test_RF_predict))\n",
        "print(\"F1 score for test dataset: \", sklearn.metrics.f1_score(Y_test_datasets, Y_test_RF_predict))\n",
        "print(\"Kappa score for test dataset: \", sklearn.metrics.cohen_kappa_score(Y_test_datasets, Y_test_RF_predict))\n",
        "print(\"jaccard_score for test dataset:\", jaccard_score(Y_test_datasets, Y_test_RF_predict))\n",
        "\n",
        "CM_RF = sklearn.metrics.confusion_matrix(Y_test_datasets, Y_test_RF_predict)\n",
        "plt.figure(figsize=(5,5))\n",
        "sns.heatmap(CM_RF, annot=True, fmt=\"d\", linewidths=.5, square = True, cmap = 'Blues_r', cbar_kws={\"shrink\": 0.75});\n",
        "plt.ylabel('Actual label');\n",
        "plt.xlabel('Predicted label');\n",
        "all_sample_title = 'Confusion Matrix of RF model'\n",
        "plt.title(all_sample_title, size = 10);"
      ]
    },
    {
      "cell_type": "code",
      "source": [
        "Y_predict_best_model_whole_study_area = RF_model.predict_proba(Processed_dataset_whole_study_area)\n",
        "\n",
        "Susc_map = np.empty((56221839,1))\n",
        "for ind in range(Data_indices.shape[0]):\n",
        "  Susc_map[Data_indices[ind,0],0]= Y_predict_best_model_whole_study_area[ind,1]\n",
        "\n",
        "Susceptibility_map = Susc_map.reshape(7893,7123)\n",
        "\n",
        "Flood_susceptibility_map = rasterio.open('/content/flood_susceptibility_map_RF.asc',\n",
        "                                         'w',\n",
        "                                          driver='GTiff',\n",
        "                                          height=7893,\n",
        "                                          width=7123,\n",
        "                                          count=1,\n",
        "                                          dtype='float32',\n",
        "                                          crs='EPSG:32610',\n",
        "                                          transform = All_points.transform,\n",
        "                                          nodata = 0 \n",
        "                                          )\n",
        "Flood_susceptibility_map.write(Susceptibility_map, 1)\n",
        "Flood_susceptibility_map.close()"
      ],
      "metadata": {
        "id": "5YZDtkpdM-Oh"
      },
      "execution_count": 34,
      "outputs": []
    },
    {
      "cell_type": "markdown",
      "source": [
        "Assessment of the relative importance of each flood conditioning factor using Spearman Analysis"
      ],
      "metadata": {
        "id": "cx_g5AZn6yzu"
      }
    },
    {
      "cell_type": "code",
      "source": [
        "Flood_susceptibility_mapp = rasterio.open('/content/flood_susceptibility_map_RF.asc')\n",
        "Flood_susceptibility_mapp = Flood_susceptibility_mapp.read(1)\n",
        "Flood_susceptibility_mapp = Flood_susceptibility_mapp.reshape(-1,1)\n",
        "print(Flood_susceptibility_mapp.shape)\n",
        "Flood_susceptibility_map_study_area = Flood_susceptibility_mapp[Data_indices[:,0],0].reshape(-1,1)\n",
        "\n",
        "for num_ind in range(np.shape(Datasett_whole_study_area_for_spearman_analysis)[1]):\n",
        "  coef, p = spearmanr(Datasett_whole_study_area_for_spearman_analysis[:,num_ind],Flood_susceptibility_map_study_area)\n",
        "  print('Spearmans correlation coefficient: %.3f' % coef)"
      ],
      "metadata": {
        "colab": {
          "base_uri": "https://localhost:8080/"
        },
        "id": "FBmAJgnA6pjI",
        "outputId": "02b0f5cd-370f-4007-8c73-996b35f2576b"
      },
      "execution_count": 35,
      "outputs": [
        {
          "output_type": "stream",
          "name": "stdout",
          "text": [
            "(56221839, 1)\n",
            "Spearmans correlation coefficient: 0.103\n",
            "Spearmans correlation coefficient: -0.475\n",
            "Spearmans correlation coefficient: 0.302\n",
            "Spearmans correlation coefficient: -0.197\n",
            "Spearmans correlation coefficient: 0.072\n",
            "Spearmans correlation coefficient: 0.549\n",
            "Spearmans correlation coefficient: -0.060\n",
            "Spearmans correlation coefficient: 0.049\n",
            "Spearmans correlation coefficient: 0.050\n",
            "Spearmans correlation coefficient: -0.002\n",
            "Spearmans correlation coefficient: 0.808\n",
            "Spearmans correlation coefficient: -0.365\n",
            "Spearmans correlation coefficient: -0.258\n"
          ]
        }
      ]
    },
    {
      "cell_type": "markdown",
      "source": [
        "The results of RF to be used in Frequency ration algorithm"
      ],
      "metadata": {
        "id": "mt7Wm_tj6ZVU"
      }
    },
    {
      "cell_type": "code",
      "source": [
        "Y_predict_binary = RF_model.predict(Processed_dataset_whole_study_area)\n",
        "\n",
        "Susc_map_binary = np.empty((56221839,1))\n",
        "for inddd in range(Data_indices.shape[0]):\n",
        "  Susc_map_binary[Data_indices[inddd,0],0]= Y_predict_binary[inddd]\n",
        "\n",
        "Susceptibility_map_binary = Susc_map_binary.reshape(7893,7123)\n",
        "\n",
        "Flood_susceptibility_map_binary = rasterio.open('/content/flood_susceptibility_map_binary.asc',\n",
        "                                         'w',\n",
        "                                          driver='GTiff',\n",
        "                                          height=7893,\n",
        "                                          width=7123,\n",
        "                                          count=1,\n",
        "                                          dtype='float32',\n",
        "                                          crs='EPSG:32610',\n",
        "                                          transform = All_points.transform,\n",
        "                                          nodata = 0 \n",
        "                                          )\n",
        "Flood_susceptibility_map_binary.write(Susceptibility_map_binary, 1)\n",
        "Flood_susceptibility_map_binary.close()"
      ],
      "metadata": {
        "id": "UToyIaar6TvK"
      },
      "execution_count": 36,
      "outputs": []
    },
    {
      "cell_type": "markdown",
      "metadata": {
        "id": "AEHkiyr9-jYU"
      },
      "source": [
        "Multi-layer perceptron neural network (MLP-NN) model"
      ]
    },
    {
      "cell_type": "code",
      "source": [
        "import itertools\n",
        "parameters = {'hidden_layer_sizes':[(1,), (1, 1, 1,), (1, 1, 1, 1, 1,), (1, 1, 1, 1, 1, 1, 1,), (1, 1, 1, 1, 1, 1, 1, 1, 1, ),\n",
        "                                    (2,), (2, 2, 2,), (2, 2, 2, 2, 2,), (2, 2, 2, 2, 2, 2, 2,), (2, 2, 2, 2, 2, 2, 2, 2, 2, ),\n",
        "                                    (3,), (3, 3, 3,), (3, 3, 3, 3, 3,), (3, 3, 3, 3, 3, 3, 3,), (3, 3, 3, 3, 3, 3, 3, 3, 3, ),\n",
        "                                    (4,), (4, 4, 4,), (4, 4, 4, 4, 4,), (4, 4, 4, 4, 4, 4, 4,), (4, 4, 4, 4, 4, 4, 4, 4, 4, ),\n",
        "                                    (5,), (5, 5, 5,), (5, 5, 5, 5, 5,), (5, 5, 5, 5, 5, 5, 5,), (5, 5, 5, 5, 5, 5, 5, 5, 5, ),\n",
        "                                    (6,), (6, 6, 6,), (6, 6, 6, 6, 6,), (6, 6, 6, 6, 6, 6, 6,), (6, 6, 6, 6, 6, 6, 6, 6, 6, ),\n",
        "                                    (7,), (7, 7, 7,), (7, 7, 7, 7, 7,), (7, 7, 7, 7, 7, 7, 7,), (7, 7, 7, 7, 7, 7, 7, 7, 7, ),\n",
        "                                    (8,), (8, 8, 8,), (8, 8, 8, 8, 8,), (8, 8, 8, 8, 8, 8, 8,), (8, 8, 8, 8, 8, 8, 8, 8, 8, ),\n",
        "                                    (9,), (9, 9, 9,), (9, 9, 9, 9, 9,), (9, 9, 9, 9, 9, 9, 9,), (9, 9, 9, 9, 9, 9, 9, 9, 9, ),\n",
        "                                    (10,), (10, 10, 10,), (10, 10, 10, 10, 10,), (10, 10, 10, 10, 10, 10, 10,), (10, 10, 10, 10, 10, 10, 10, 10, 10, )]}\n",
        "MLP_classifier = MLPClassifier(random_state=0)\n",
        "MLP_model_gs = GridSearchCV(MLP_classifier, parameters, scoring='accuracy', cv=5, return_train_score=True, n_jobs=-1)\n",
        "MLP_model_gs.fit(X_datasets, Y_datasets)\n",
        "#pd.DataFrame(MLP_model_gs.cv_results_)[['param_hidden_layer_sizes', 'mean_train_score', 'mean_test_score']]"
      ],
      "metadata": {
        "id": "c7XmXdt5h7nk",
        "colab": {
          "base_uri": "https://localhost:8080/"
        },
        "outputId": "540c8762-53bd-4c81-e00d-b34baac38669"
      },
      "execution_count": 19,
      "outputs": [
        {
          "output_type": "stream",
          "name": "stderr",
          "text": [
            "/usr/local/lib/python3.8/dist-packages/sklearn/neural_network/_multilayer_perceptron.py:692: ConvergenceWarning: Stochastic Optimizer: Maximum iterations (200) reached and the optimization hasn't converged yet.\n",
            "  warnings.warn(\n"
          ]
        },
        {
          "output_type": "execute_result",
          "data": {
            "text/plain": [
              "GridSearchCV(cv=5, estimator=MLPClassifier(random_state=0), n_jobs=-1,\n",
              "             param_grid={'hidden_layer_sizes': [(1,), (1, 1, 1),\n",
              "                                                (1, 1, 1, 1, 1),\n",
              "                                                (1, 1, 1, 1, 1, 1, 1),\n",
              "                                                (1, 1, 1, 1, 1, 1, 1, 1, 1),\n",
              "                                                (2,), (2, 2, 2),\n",
              "                                                (2, 2, 2, 2, 2),\n",
              "                                                (2, 2, 2, 2, 2, 2, 2),\n",
              "                                                (2, 2, 2, 2, 2, 2, 2, 2, 2),\n",
              "                                                (3,), (3, 3, 3),\n",
              "                                                (3, 3, 3, 3, 3),\n",
              "                                                (3, 3, 3, 3, 3, 3, 3),\n",
              "                                                (3, 3, 3, 3, 3, 3, 3, 3, 3),\n",
              "                                                (4,), (4, 4, 4),\n",
              "                                                (4, 4, 4, 4, 4),\n",
              "                                                (4, 4, 4, 4, 4, 4, 4),\n",
              "                                                (4, 4, 4, 4, 4, 4, 4, 4, 4),\n",
              "                                                (5,), (5, 5, 5),\n",
              "                                                (5, 5, 5, 5, 5),\n",
              "                                                (5, 5, 5, 5, 5, 5, 5),\n",
              "                                                (5, 5, 5, 5, 5, 5, 5, 5, 5),\n",
              "                                                (6,), (6, 6, 6),\n",
              "                                                (6, 6, 6, 6, 6),\n",
              "                                                (6, 6, 6, 6, 6, 6, 6),\n",
              "                                                (6, 6, 6, 6, 6, 6, 6, 6, 6), ...]},\n",
              "             return_train_score=True, scoring='accuracy')"
            ]
          },
          "metadata": {},
          "execution_count": 19
        }
      ]
    },
    {
      "cell_type": "code",
      "source": [
        "MLP_model_gs.best_params_"
      ],
      "metadata": {
        "colab": {
          "base_uri": "https://localhost:8080/"
        },
        "id": "gA0Jtw7YiFc8",
        "outputId": "50ca47d7-ad9e-47b7-a893-7fa2033cef1f"
      },
      "execution_count": 20,
      "outputs": [
        {
          "output_type": "execute_result",
          "data": {
            "text/plain": [
              "{'hidden_layer_sizes': (4, 4, 4)}"
            ]
          },
          "metadata": {},
          "execution_count": 20
        }
      ]
    },
    {
      "cell_type": "code",
      "execution_count": 21,
      "metadata": {
        "colab": {
          "base_uri": "https://localhost:8080/",
          "height": 440
        },
        "id": "Wm1srJ6AFxyL",
        "outputId": "aae077a8-4cba-4adb-b798-3fe5414703d8"
      },
      "outputs": [
        {
          "output_type": "stream",
          "name": "stderr",
          "text": [
            "/usr/local/lib/python3.8/dist-packages/sklearn/neural_network/_multilayer_perceptron.py:692: ConvergenceWarning: Stochastic Optimizer: Maximum iterations (200) reached and the optimization hasn't converged yet.\n",
            "  warnings.warn(\n"
          ]
        },
        {
          "output_type": "stream",
          "name": "stdout",
          "text": [
            "ROC-AUC score for test dataset:  0.8503611971104231\n",
            "Accuracy score for test dataset:  0.8518518518518519\n",
            "F1 score for test dataset:  0.8620689655172413\n",
            "Kappa score for test dataset:  0.7021716649431231\n",
            "jaccard_score for test dataset: 0.7575757575757576\n"
          ]
        },
        {
          "output_type": "display_data",
          "data": {
            "text/plain": [
              "<Figure size 360x360 with 2 Axes>"
            ],
            "image/png": "[encoded data removed]"
          },
          "metadata": {
            "needs_background": "light"
          }
        }
      ],
      "source": [
        "MLP_model_after_CV = MLPClassifier(random_state=0, **MLP_model_gs.best_params_)\n",
        "MLP_model_after_CV.fit(X_datasets, Y_datasets)\n",
        "\n",
        "Y_test_MLP_predict = MLP_model_after_CV.predict(X_test_datasets)\n",
        "print(\"ROC-AUC score for test dataset: \", sklearn.metrics.roc_auc_score(Y_test_datasets, Y_test_MLP_predict))\n",
        "print(\"Accuracy score for test dataset: \", sklearn.metrics.accuracy_score(Y_test_datasets, Y_test_MLP_predict))\n",
        "print(\"F1 score for test dataset: \", sklearn.metrics.f1_score(Y_test_datasets, Y_test_MLP_predict))\n",
        "print(\"Kappa score for test dataset: \", sklearn.metrics.cohen_kappa_score(Y_test_datasets, Y_test_MLP_predict))\n",
        "print(\"jaccard_score for test dataset:\", jaccard_score(Y_test_datasets, Y_test_MLP_predict))\n",
        "\n",
        "CM_MLP = sklearn.metrics.confusion_matrix(Y_test_datasets, Y_test_MLP_predict)\n",
        "plt.figure(figsize=(5,5))\n",
        "sns.heatmap(CM_MLP, annot=True, fmt=\"d\", linewidths=.5, square = True, cmap = 'Blues_r', cbar_kws={\"shrink\": 0.75});\n",
        "plt.ylabel('Actual label');\n",
        "plt.xlabel('Predicted label');\n",
        "all_sample_title = 'Confusion Matrix of MLP-NN model'\n",
        "plt.title(all_sample_title, size = 10);"
      ]
    },
    {
      "cell_type": "code",
      "source": [
        "Y_predict_MLP_model_after_CV_whole_study_area = MLP_model_after_CV.predict_proba(Processed_dataset_whole_study_area)\n",
        "\n",
        "Susc_map_MLP_model_after_CV = np.empty((56221839,1))\n",
        "for ind in range(Data_indices.shape[0]):\n",
        "  Susc_map_MLP_model_after_CV[Data_indices[ind,0],0]= Y_predict_MLP_model_after_CV_whole_study_area[ind,1]\n",
        "\n",
        "Susceptibility_map_MLP_model_after_CV = Susc_map_MLP_model_after_CV.reshape(7893,7123)\n",
        "\n",
        "\n",
        "Flood_susceptibility_map_MLP_model_after_CV = rasterio.open('flood_susceptibility_map_MLP.asc',\n",
        "                                         'w',\n",
        "                                          driver='GTiff',\n",
        "                                          height=7893,\n",
        "                                          width=7123,\n",
        "                                          count=1,\n",
        "                                          dtype='float32',\n",
        "                                          crs='EPSG:32610',\n",
        "                                          transform = All_points.transform,\n",
        "                                          nodata = 0 \n",
        "                                          )\n",
        "Flood_susceptibility_map_MLP_model_after_CV.write(Susceptibility_map_MLP_model_after_CV, 1)\n",
        "Flood_susceptibility_map_MLP_model_after_CV.close()"
      ],
      "metadata": {
        "id": "mD--T88fWGys"
      },
      "execution_count": null,
      "outputs": []
    },
    {
      "cell_type": "markdown",
      "metadata": {
        "id": "ATfKHdCapYIT"
      },
      "source": [
        "Adaptive Boosting (AdaBoost) model"
      ]
    },
    {
      "cell_type": "code",
      "source": [
        "parameters = {'n_estimators':np.arange(20,500,20), 'learning_rate': [0.1, 0.2, 0.3, 0.4, 0.5, 0.6, 0.8, 1]}\n",
        "ADB_classifier = AdaBoostClassifier(random_state=0)\n",
        "ADB_model_gs = GridSearchCV(ADB_classifier, parameters, scoring='accuracy', cv=5, return_train_score=True, n_jobs=-1)\n",
        "ADB_model_gs.fit(X_datasets, Y_datasets)\n",
        "#pd.DataFrame(ADB_model_gs.cv_results_)[['param_learning_rate', 'param_n_estimators', 'mean_train_score', 'mean_test_score']]"
      ],
      "metadata": {
        "colab": {
          "base_uri": "https://localhost:8080/"
        },
        "id": "CZengl2S5Td5",
        "outputId": "fb94300f-85a4-4497-d6f2-9c5ed5d6a424"
      },
      "execution_count": 22,
      "outputs": [
        {
          "output_type": "execute_result",
          "data": {
            "text/plain": [
              "GridSearchCV(cv=5, estimator=AdaBoostClassifier(random_state=0), n_jobs=-1,\n",
              "             param_grid={'learning_rate': [0.1, 0.2, 0.3, 0.4, 0.5, 0.6, 0.8,\n",
              "                                           1],\n",
              "                         'n_estimators': array([ 20,  40,  60,  80, 100, 120, 140, 160, 180, 200, 220, 240, 260,\n",
              "       280, 300, 320, 340, 360, 380, 400, 420, 440, 460, 480])},\n",
              "             return_train_score=True, scoring='accuracy')"
            ]
          },
          "metadata": {},
          "execution_count": 22
        }
      ]
    },
    {
      "cell_type": "code",
      "source": [
        "ADB_model_gs.best_params_"
      ],
      "metadata": {
        "colab": {
          "base_uri": "https://localhost:8080/"
        },
        "id": "xdm9MTDC7NvU",
        "outputId": "606e2c84-d8b8-4655-d08d-71c05867fde5"
      },
      "execution_count": 23,
      "outputs": [
        {
          "output_type": "execute_result",
          "data": {
            "text/plain": [
              "{'learning_rate': 0.1, 'n_estimators': 160}"
            ]
          },
          "metadata": {},
          "execution_count": 23
        }
      ]
    },
    {
      "cell_type": "code",
      "source": [
        "ADB_model = AdaBoostClassifier(random_state=0, **ADB_model_gs.best_params_)\n",
        "ADB_model.fit(X_datasets, Y_datasets)\n",
        "\n",
        "Y_test_ADB_predict = ADB_model.predict(X_test_datasets)\n",
        "print(\"ROC-AUC score for test dataset: \", sklearn.metrics.roc_auc_score(Y_test_datasets, Y_test_ADB_predict))\n",
        "print(\"Accuracy score for test dataset: \", sklearn.metrics.accuracy_score(Y_test_datasets, Y_test_ADB_predict))\n",
        "print(\"F1 score for test dataset: \", sklearn.metrics.f1_score(Y_test_datasets, Y_test_ADB_predict))\n",
        "print(\"Kappa score for test dataset: \", sklearn.metrics.cohen_kappa_score(Y_test_datasets, Y_test_ADB_predict))\n",
        "print(\"jaccard_score for test dataset:\", jaccard_score(Y_test_datasets, Y_test_ADB_predict))\n",
        "\n",
        "CM_ADB = sklearn.metrics.confusion_matrix(Y_test_datasets, Y_test_ADB_predict)\n",
        "plt.figure(figsize=(5,5))\n",
        "sns.heatmap(CM_ADB, annot=True, fmt=\"d\", linewidths=.5, square = True, cmap = 'Blues_r', cbar_kws={\"shrink\": 0.75});\n",
        "plt.ylabel('Actual label');\n",
        "plt.xlabel('Predicted label');\n",
        "all_sample_title = 'Confusion Matrix of AdaBoost model'\n",
        "plt.title(all_sample_title, size = 10);"
      ],
      "metadata": {
        "colab": {
          "base_uri": "https://localhost:8080/",
          "height": 386
        },
        "id": "6D8yb02f96FI",
        "outputId": "a67d8013-7de7-4868-c532-a2ee706d24b5"
      },
      "execution_count": 24,
      "outputs": [
        {
          "output_type": "stream",
          "name": "stdout",
          "text": [
            "ROC-AUC score for test dataset:  0.9726522187822496\n",
            "Accuracy score for test dataset:  0.9722222222222222\n",
            "F1 score for test dataset:  0.9734513274336283\n",
            "Kappa score for test dataset:  0.9443298969072165\n",
            "jaccard_score for test dataset: 0.9482758620689655\n"
          ]
        },
        {
          "output_type": "display_data",
          "data": {
            "text/plain": [
              "<Figure size 360x360 with 2 Axes>"
            ],
            "image/png": "[encoded data removed]"
          },
          "metadata": {
            "needs_background": "light"
          }
        }
      ]
    },
    {
      "cell_type": "code",
      "source": [
        "Y_predict_ADB_model_whole_study_area = ADB_model.predict_proba(Processed_dataset_whole_study_area)\n",
        "\n",
        "Susc_map_ADB = np.empty((56221839,1))\n",
        "for ind in range(Data_indices.shape[0]):\n",
        "  Susc_map_ADB[Data_indices[ind,0],0]= Y_predict_ADB_model_whole_study_area[ind,1]\n",
        "\n",
        "Susceptibility_map_ADB = Susc_map_ADB.reshape(7893,7123)\n",
        "\n",
        "\n",
        "Flood_susceptibility_map_ADB = rasterio.open('flood_susceptibility_map_ADB.asc',\n",
        "                                         'w',\n",
        "                                          driver='GTiff',\n",
        "                                          height=7893,\n",
        "                                          width=7123,\n",
        "                                          count=1,\n",
        "                                          dtype='float32',\n",
        "                                          crs='EPSG:32610',\n",
        "                                          transform = All_points.transform,\n",
        "                                          nodata = 0 \n",
        "                                          )\n",
        "Flood_susceptibility_map_ADB.write(Susceptibility_map_ADB, 1)\n",
        "Flood_susceptibility_map_ADB.close()"
      ],
      "metadata": {
        "id": "WPNnOmOLYals"
      },
      "execution_count": null,
      "outputs": []
    },
    {
      "cell_type": "markdown",
      "source": [
        "Support vector machine (SVM) model"
      ],
      "metadata": {
        "id": "wM2oI9HxDLyZ"
      }
    },
    {
      "cell_type": "code",
      "source": [
        "parameters = {'C':[0.001, 0.01, 0.1, 1, 10, 100, 1000, 10000] , 'gamma': np.array([0.000001, 0.00001, 0.0001, 0.001, 0.01, 0.1, 1, 10, 100, 1000, 10000])}\n",
        "SVM_classifier = SVC(probability = True, random_state=0)\n",
        "SVM_model_gs = GridSearchCV(SVM_classifier, parameters, scoring='accuracy', cv=5, return_train_score=True, n_jobs=-1)\n",
        "SVM_model_gs.fit(X_datasets, Y_datasets)\n",
        "#pd.DataFrame(SVM_model_gs.cv_results_)[['param_C', 'param_gamma', 'mean_train_score', 'mean_test_score']]"
      ],
      "metadata": {
        "colab": {
          "base_uri": "https://localhost:8080/"
        },
        "id": "oYE4AzQ3DOI6",
        "outputId": "26cd1c05-cd52-4a3c-9b0c-b070bffd9e0b"
      },
      "execution_count": 25,
      "outputs": [
        {
          "output_type": "execute_result",
          "data": {
            "text/plain": [
              "GridSearchCV(cv=5, estimator=SVC(probability=True, random_state=0), n_jobs=-1,\n",
              "             param_grid={'C': [0.001, 0.01, 0.1, 1, 10, 100, 1000, 10000],\n",
              "                         'gamma': array([1.e-06, 1.e-05, 1.e-04, 1.e-03, 1.e-02, 1.e-01, 1.e+00, 1.e+01,\n",
              "       1.e+02, 1.e+03, 1.e+04])},\n",
              "             return_train_score=True, scoring='accuracy')"
            ]
          },
          "metadata": {},
          "execution_count": 25
        }
      ]
    },
    {
      "cell_type": "code",
      "source": [
        "SVM_model_gs.best_params_"
      ],
      "metadata": {
        "colab": {
          "base_uri": "https://localhost:8080/"
        },
        "id": "KAsWHwHTGE0c",
        "outputId": "29cb1e64-fd1e-4949-d6c1-4a8e1b0093ca"
      },
      "execution_count": 26,
      "outputs": [
        {
          "output_type": "execute_result",
          "data": {
            "text/plain": [
              "{'C': 1000, 'gamma': 1e-06}"
            ]
          },
          "metadata": {},
          "execution_count": 26
        }
      ]
    },
    {
      "cell_type": "code",
      "execution_count": 27,
      "metadata": {
        "colab": {
          "base_uri": "https://localhost:8080/",
          "height": 386
        },
        "id": "oC5_PtcM9hvL",
        "outputId": "a8475e40-d0c6-4dbc-aa4f-b3d93abdb267"
      },
      "outputs": [
        {
          "output_type": "stream",
          "name": "stdout",
          "text": [
            "ROC-AUC score for test dataset:  0.8942208462332301\n",
            "Accuracy score for test dataset:  0.8981481481481481\n",
            "F1 score for test dataset:  0.9090909090909092\n",
            "Kappa score for test dataset:  0.7941787941787941\n",
            "jaccard_score for test dataset: 0.8333333333333334\n"
          ]
        },
        {
          "output_type": "display_data",
          "data": {
            "text/plain": [
              "<Figure size 360x360 with 2 Axes>"
            ],
            "image/png": "[encoded data removed]"
          },
          "metadata": {
            "needs_background": "light"
          }
        }
      ],
      "source": [
        "SVM_model = make_pipeline(StandardScaler(), SVC(random_state=0, probability = True, **SVM_model_gs.best_params_))\n",
        "SVM_model.fit(X_datasets, Y_datasets)\n",
        "\n",
        "Y_test_SVM_predict = SVM_model.predict(X_test_datasets)\n",
        "print(\"ROC-AUC score for test dataset: \", sklearn.metrics.roc_auc_score(Y_test_datasets, Y_test_SVM_predict))\n",
        "print(\"Accuracy score for test dataset: \", sklearn.metrics.accuracy_score(Y_test_datasets, Y_test_SVM_predict))\n",
        "print(\"F1 score for test dataset: \", sklearn.metrics.f1_score(Y_test_datasets, Y_test_SVM_predict))\n",
        "print(\"Kappa score for test dataset: \", sklearn.metrics.cohen_kappa_score(Y_test_datasets, Y_test_SVM_predict))\n",
        "print(\"jaccard_score for test dataset:\", jaccard_score(Y_test_datasets, Y_test_SVM_predict))\n",
        "\n",
        "CM_SVM = sklearn.metrics.confusion_matrix(Y_test_datasets, Y_test_SVM_predict)\n",
        "plt.figure(figsize=(5,5))\n",
        "sns.heatmap(CM_SVM, annot=True, fmt=\"d\", linewidths=.5, square = True, cmap = 'Blues_r', cbar_kws={\"shrink\": 0.75});\n",
        "plt.ylabel('Actual label');\n",
        "plt.xlabel('Predicted label');\n",
        "all_sample_title = 'Confusion Matrix of SVM model'\n",
        "plt.title(all_sample_title, size = 10);"
      ]
    },
    {
      "cell_type": "code",
      "source": [
        "Y_predict_SVM_model_whole_study_area = SVM_model.predict_proba(Processed_dataset_whole_study_area)\n",
        "\n",
        "Susc_map_SVM = np.empty((56221839,1))\n",
        "for ind in range(Data_indices.shape[0]):\n",
        "  Susc_map_SVM[Data_indices[ind,0],0]= Y_predict_SVM_model_whole_study_area[ind,1]\n",
        "\n",
        "Susceptibility_map_SVM = Susc_map_SVM.reshape(7893,7123)\n",
        "\n",
        "\n",
        "Flood_susceptibility_map_SVM = rasterio.open('flood_susceptibility_map_SVM.asc',\n",
        "                                         'w',\n",
        "                                          driver='GTiff',\n",
        "                                          height=7893,\n",
        "                                          width=7123,\n",
        "                                          count=1,\n",
        "                                          dtype='float32',\n",
        "                                          crs='EPSG:32610',\n",
        "                                          transform = All_points.transform,\n",
        "                                          nodata = 0 \n",
        "                                          )\n",
        "Flood_susceptibility_map_SVM.write(Susceptibility_map_SVM, 1)\n",
        "Flood_susceptibility_map_SVM.close()"
      ],
      "metadata": {
        "id": "7VwiLtkHYtng"
      },
      "execution_count": null,
      "outputs": []
    },
    {
      "cell_type": "markdown",
      "source": [
        "Logistic Regression (LR)"
      ],
      "metadata": {
        "id": "GRNJxyMZDRu0"
      }
    },
    {
      "cell_type": "code",
      "source": [
        "parameters = {'C':[0.001, 0.01, 0.1, 1, 10, 100, 1000, 10000], 'solver': ['newton-cg', 'lbfgs', 'liblinear', 'sag', 'saga'], 'penalty':['l1', 'l2', 'elasticnet']}\n",
        "LR_classifier = LogisticRegression(random_state=0)\n",
        "LR_model_gs = GridSearchCV(LR_classifier, parameters, scoring='accuracy', cv=5, return_train_score=True, n_jobs=-1)\n",
        "LR_model_gs.fit(X_datasets, Y_datasets)"
      ],
      "metadata": {
        "id": "w2HoNblmt-V4"
      },
      "execution_count": null,
      "outputs": []
    },
    {
      "cell_type": "code",
      "source": [
        "LR_model_gs.best_params_"
      ],
      "metadata": {
        "colab": {
          "base_uri": "https://localhost:8080/"
        },
        "id": "yTdBmV85uA8b",
        "outputId": "6048b98e-2a1f-41f6-f2c2-ad617f844fc6"
      },
      "execution_count": 29,
      "outputs": [
        {
          "output_type": "execute_result",
          "data": {
            "text/plain": [
              "{'C': 1, 'penalty': 'l2', 'solver': 'liblinear'}"
            ]
          },
          "metadata": {},
          "execution_count": 29
        }
      ]
    },
    {
      "cell_type": "code",
      "execution_count": 30,
      "metadata": {
        "colab": {
          "base_uri": "https://localhost:8080/",
          "height": 386
        },
        "id": "dOybprAhI_Hw",
        "outputId": "42e9c126-0ba2-49f6-f068-99591546c565"
      },
      "outputs": [
        {
          "output_type": "stream",
          "name": "stdout",
          "text": [
            "ROC-AUC score for test dataset:  0.9256965944272446\n",
            "Accuracy score for test dataset:  0.9259259259259259\n",
            "F1 score for test dataset:  0.9298245614035088\n",
            "Kappa score for test dataset:  0.8513931888544892\n",
            "jaccard_score for test dataset: 0.8688524590163934\n"
          ]
        },
        {
          "output_type": "display_data",
          "data": {
            "text/plain": [
              "<Figure size 360x360 with 2 Axes>"
            ],
            "image/png": "[encoded data removed]"
          },
          "metadata": {
            "needs_background": "light"
          }
        }
      ],
      "source": [
        "LogisticRegression_model = make_pipeline(StandardScaler(), LogisticRegression(random_state=0, **LR_model_gs.best_params_))\n",
        "LogisticRegression_model.fit(X_datasets, Y_datasets)\n",
        "\n",
        "Y_test_LogisticRegression_predict = LogisticRegression_model.predict(X_test_datasets)\n",
        "print(\"ROC-AUC score for test dataset: \", sklearn.metrics.roc_auc_score(Y_test_datasets, Y_test_LogisticRegression_predict))\n",
        "print(\"Accuracy score for test dataset: \", sklearn.metrics.accuracy_score(Y_test_datasets, Y_test_LogisticRegression_predict))\n",
        "print(\"F1 score for test dataset: \", sklearn.metrics.f1_score(Y_test_datasets, Y_test_LogisticRegression_predict))\n",
        "print(\"Kappa score for test dataset: \", sklearn.metrics.cohen_kappa_score(Y_test_datasets, Y_test_LogisticRegression_predict))\n",
        "print(\"jaccard_score for test dataset:\", jaccard_score(Y_test_datasets, Y_test_LogisticRegression_predict))\n",
        "\n",
        "CM_LogisticRegression = sklearn.metrics.confusion_matrix(Y_test_datasets, Y_test_LogisticRegression_predict)\n",
        "plt.figure(figsize=(5,5))\n",
        "sns.heatmap(CM_LogisticRegression, annot=True, fmt=\"d\", linewidths=.5, square = True, cmap = 'Blues_r', cbar_kws={\"shrink\": 0.75});\n",
        "plt.ylabel('Actual label');\n",
        "plt.xlabel('Predicted label');\n",
        "all_sample_title = 'Confusion Matrix of LR model'\n",
        "plt.title(all_sample_title, size = 10);"
      ]
    },
    {
      "cell_type": "code",
      "source": [
        "Y_predict_LR_model_whole_study_area = LogisticRegression_model.predict_proba(Processed_dataset_whole_study_area)\n",
        "\n",
        "Susc_map_LR = np.empty((56221839,1))\n",
        "for ind in range(Data_indices.shape[0]):\n",
        "  Susc_map_LR[Data_indices[ind,0],0]= Y_predict_LR_model_whole_study_area[ind,1]\n",
        "\n",
        "Susceptibility_map_LR = Susc_map_LR.reshape(7893,7123)\n",
        "\n",
        "\n",
        "Flood_susceptibility_map_LR = rasterio.open('flood_susceptibility_map_LR.asc',\n",
        "                                         'w',\n",
        "                                          driver='GTiff',\n",
        "                                          height=7893,\n",
        "                                          width=7123,\n",
        "                                          count=1,\n",
        "                                          dtype='float32',\n",
        "                                          crs='EPSG:32610',\n",
        "                                          transform = All_points.transform,\n",
        "                                          nodata = 0 \n",
        "                                          )\n",
        "Flood_susceptibility_map_LR.write(Susceptibility_map_LR, 1)\n",
        "Flood_susceptibility_map_LR.close()"
      ],
      "metadata": {
        "id": "T7zbO9weYzS9"
      },
      "execution_count": null,
      "outputs": []
    },
    {
      "cell_type": "markdown",
      "source": [
        "ROC curves"
      ],
      "metadata": {
        "id": "DrTPMO8BDV_R"
      }
    },
    {
      "cell_type": "code",
      "execution_count": 31,
      "metadata": {
        "colab": {
          "base_uri": "https://localhost:8080/",
          "height": 584
        },
        "id": "aWtIfuF4LtAt",
        "outputId": "a83850fa-c837-4440-dee8-0f6a0d090335"
      },
      "outputs": [
        {
          "output_type": "stream",
          "name": "stdout",
          "text": [
            "ROC-AUC score for DT:  0.9688682490540075\n",
            "ROC-AUC score for RF:  0.9934640522875816\n",
            "ROC-AUC score for MLP-NN:  0.9552803577571379\n",
            "ROC-AUC score for ADB:  0.9941520467836257\n",
            "ROC-AUC score for SVM:  0.9845201238390093\n",
            "ROC-AUC score for LR:  0.9889920880632954\n"
          ]
        },
        {
          "output_type": "display_data",
          "data": {
            "text/plain": [
              "<Figure size 500x500 with 1 Axes>"
            ],
            "image/png": "[encoded data removed]"
          },
          "metadata": {
            "needs_background": "light"
          }
        }
      ],
      "source": [
        "figure(figsize=(5,5), dpi=100)\n",
        "\n",
        "# Decision Tree (DT)\n",
        "Y_test_DT_predict_probability = DT_model.predict_proba(X_test_datasets)\n",
        "y_score_DT = Y_test_DT_predict_probability[:,1]\n",
        "false_positive_rate_DT, true_positive_rate_DT, threshold_DT = roc_curve(Y_test_datasets, y_score_DT)\n",
        "print('ROC-AUC score for DT: ', sklearn.metrics.roc_auc_score(Y_test_datasets, y_score_DT))\n",
        "plt.plot(false_positive_rate_DT, true_positive_rate_DT, color=\"purple\", lw= 2, label=\"DT (AUC = %0.4f)\" % auc(false_positive_rate_DT, true_positive_rate_DT))\n",
        "\n",
        "# Random Forest (RF)\n",
        "Y_test_RF_predict_probability = RF_model.predict_proba(X_test_datasets)\n",
        "y_score_RF = Y_test_RF_predict_probability[:,1]\n",
        "#print(\"y_score_RF: \", y_score_RF)\n",
        "false_positive_rate_RF, true_positive_rate_RF, threshold_LRF = roc_curve(Y_test_datasets, y_score_RF)\n",
        "print('ROC-AUC score for RF: ', sklearn.metrics.roc_auc_score(Y_test_datasets, y_score_RF))\n",
        "plt.plot(false_positive_rate_RF, true_positive_rate_RF, color=\"blue\", lw= 2, label=\"RF (AUC = %0.4f)\" % auc(false_positive_rate_RF, true_positive_rate_RF))\n",
        "\n",
        "# Multi layer perceptron neural network (MLP-NN) model\n",
        "Y_test_MLP_predict_probability = MLP_model_after_CV.predict_proba(X_test_datasets)\n",
        "y_score_MLP = Y_test_MLP_predict_probability[:,1]\n",
        "false_positive_rate_MLP, true_positive_rate_MLP, threshold_MLP = roc_curve(Y_test_datasets, y_score_MLP)\n",
        "print('ROC-AUC score for MLP-NN: ', sklearn.metrics.roc_auc_score(Y_test_datasets, y_score_MLP))\n",
        "plt.plot(false_positive_rate_MLP, true_positive_rate_MLP, color=\"brown\", lw= 2, label=\"MLP-NN (AUC = %0.4f)\" % auc(false_positive_rate_MLP, true_positive_rate_MLP))\n",
        "\n",
        "# Adaptive Boosting (AdaBoost) model\n",
        "Y_test_ADB_predict_probability = ADB_model.predict_proba(X_test_datasets)\n",
        "y_score_ADB = Y_test_ADB_predict_probability[:,1]\n",
        "false_positive_rate_ADB, true_positive_rate_ADB, threshold_ADB = roc_curve(Y_test_datasets, y_score_ADB)\n",
        "print('ROC-AUC score for ADB: ', sklearn.metrics.roc_auc_score(Y_test_datasets, y_score_ADB))\n",
        "plt.plot(false_positive_rate_ADB, true_positive_rate_ADB, color=\"green\", lw= 2, label=\"AdaBoost (AUC = %0.4f)\" % auc(false_positive_rate_ADB, true_positive_rate_ADB))\n",
        "\n",
        "# Support vector machines (SVM)\n",
        "Y_test_SVM_predict_probability = SVM_model.predict_proba(X_test_datasets)\n",
        "y_score_SVM = Y_test_SVM_predict_probability[:,1]\n",
        "false_positive_rate_SVM, true_positive_rate_SVM, threshold_SVM = roc_curve(Y_test_datasets, y_score_SVM)\n",
        "print('ROC-AUC score for SVM: ', sklearn.metrics.roc_auc_score(Y_test_datasets, y_score_SVM))\n",
        "plt.plot(false_positive_rate_SVM, true_positive_rate_SVM, color=\"red\", lw= 2, label=\"SVM (AUC = %0.4f)\" % auc(false_positive_rate_SVM, true_positive_rate_SVM))\n",
        "\n",
        "# Logistic Regression (LR)\n",
        "Y_test_LogisticRegression_predict_probability = LogisticRegression_model.predict_proba(X_test_datasets)\n",
        "y_score_LogisticRegression = Y_test_LogisticRegression_predict_probability[:,1]\n",
        "false_positive_rate_LR, true_positive_rate_LR, threshold_LR = roc_curve(Y_test_datasets, y_score_LogisticRegression)\n",
        "print('ROC-AUC score for LR: ', sklearn.metrics.roc_auc_score(Y_test_datasets, y_score_LogisticRegression))\n",
        "plt.plot(false_positive_rate_LR, true_positive_rate_LR, color=\"orange\", lw= 2, label=\"LR (AUC = %0.4f)\" % auc(false_positive_rate_LR, true_positive_rate_LR))\n",
        "\n",
        "plt.title('ROC curves')\n",
        "plt.plot([0, 1], [0, 1], color=\"navy\", lw=2, linestyle=\"--\")\n",
        "plt.xlim([-0.05, 1.05])\n",
        "plt.ylim([-0.05, 1.05])\n",
        "plt.ylabel('True Positive Rate')\n",
        "plt.xlabel('False Positive Rate')\n",
        "plt.legend(loc=\"lower right\")\n",
        "\n",
        "plt.show()"
      ]
    }
  ],
  "metadata": {
    "colab": {
      "provenance": [],
      "machine_shape": "hm",
      "authorship_tag": "ABX9TyPPJv6ZbOzBDAHN78wHrB7K",
      "include_colab_link": true
    },
    "kernelspec": {
      "display_name": "Python 3",
      "name": "python3"
    },
    "language_info": {
      "name": "python"
    },
    "gpuClass": "standard"
  },
  "nbformat": 4,
  "nbformat_minor": 0
}